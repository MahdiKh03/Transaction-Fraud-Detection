{
 "cells": [
  {
   "cell_type": "code",
   "execution_count": 1,
   "metadata": {},
   "outputs": [],
   "source": [
    "import pandas as pd\n",
    "import matplotlib.pyplot as plt\n",
    "import seaborn as sns\n",
    "import numpy as np\n",
    "from sklearn.linear_model import LogisticRegression\n",
    "from sklearn.model_selection import train_test_split\n",
    "from sklearn.metrics import roc_auc_score\n",
    "from sklearn.preprocessing import StandardScaler\n",
    "\n",
    "pd.options.display.float_format = '{:20.2f}'.format\n",
    "\n",
    "# Show all columns on output\n",
    "pd.set_option(\"display.max_columns\", 999)"
   ]
  },
  {
   "cell_type": "code",
   "execution_count": 2,
   "metadata": {},
   "outputs": [
    {
     "data": {
      "text/html": [
       "<div>\n",
       "<style scoped>\n",
       "    .dataframe tbody tr th:only-of-type {\n",
       "        vertical-align: middle;\n",
       "    }\n",
       "\n",
       "    .dataframe tbody tr th {\n",
       "        vertical-align: top;\n",
       "    }\n",
       "\n",
       "    .dataframe thead th {\n",
       "        text-align: right;\n",
       "    }\n",
       "</style>\n",
       "<table border=\"1\" class=\"dataframe\">\n",
       "  <thead>\n",
       "    <tr style=\"text-align: right;\">\n",
       "      <th></th>\n",
       "      <th>id</th>\n",
       "      <th>date</th>\n",
       "      <th>client_id</th>\n",
       "      <th>card_id</th>\n",
       "      <th>amount</th>\n",
       "      <th>use_chip</th>\n",
       "      <th>merchant_id</th>\n",
       "      <th>merchant_city</th>\n",
       "      <th>merchant_state</th>\n",
       "      <th>zip</th>\n",
       "      <th>mcc</th>\n",
       "      <th>errors</th>\n",
       "    </tr>\n",
       "  </thead>\n",
       "  <tbody>\n",
       "    <tr>\n",
       "      <th>0</th>\n",
       "      <td>7475327</td>\n",
       "      <td>2010-01-01 00:01:00</td>\n",
       "      <td>1556</td>\n",
       "      <td>2972</td>\n",
       "      <td>$-77.00</td>\n",
       "      <td>Swipe Transaction</td>\n",
       "      <td>59935</td>\n",
       "      <td>Beulah</td>\n",
       "      <td>ND</td>\n",
       "      <td>58523.00</td>\n",
       "      <td>5499</td>\n",
       "      <td>NaN</td>\n",
       "    </tr>\n",
       "    <tr>\n",
       "      <th>1</th>\n",
       "      <td>7475328</td>\n",
       "      <td>2010-01-01 00:02:00</td>\n",
       "      <td>561</td>\n",
       "      <td>4575</td>\n",
       "      <td>$14.57</td>\n",
       "      <td>Swipe Transaction</td>\n",
       "      <td>67570</td>\n",
       "      <td>Bettendorf</td>\n",
       "      <td>IA</td>\n",
       "      <td>52722.00</td>\n",
       "      <td>5311</td>\n",
       "      <td>NaN</td>\n",
       "    </tr>\n",
       "    <tr>\n",
       "      <th>2</th>\n",
       "      <td>7475329</td>\n",
       "      <td>2010-01-01 00:02:00</td>\n",
       "      <td>1129</td>\n",
       "      <td>102</td>\n",
       "      <td>$80.00</td>\n",
       "      <td>Swipe Transaction</td>\n",
       "      <td>27092</td>\n",
       "      <td>Vista</td>\n",
       "      <td>CA</td>\n",
       "      <td>92084.00</td>\n",
       "      <td>4829</td>\n",
       "      <td>NaN</td>\n",
       "    </tr>\n",
       "    <tr>\n",
       "      <th>3</th>\n",
       "      <td>7475331</td>\n",
       "      <td>2010-01-01 00:05:00</td>\n",
       "      <td>430</td>\n",
       "      <td>2860</td>\n",
       "      <td>$200.00</td>\n",
       "      <td>Swipe Transaction</td>\n",
       "      <td>27092</td>\n",
       "      <td>Crown Point</td>\n",
       "      <td>IN</td>\n",
       "      <td>46307.00</td>\n",
       "      <td>4829</td>\n",
       "      <td>NaN</td>\n",
       "    </tr>\n",
       "    <tr>\n",
       "      <th>4</th>\n",
       "      <td>7475332</td>\n",
       "      <td>2010-01-01 00:06:00</td>\n",
       "      <td>848</td>\n",
       "      <td>3915</td>\n",
       "      <td>$46.41</td>\n",
       "      <td>Swipe Transaction</td>\n",
       "      <td>13051</td>\n",
       "      <td>Harwood</td>\n",
       "      <td>MD</td>\n",
       "      <td>20776.00</td>\n",
       "      <td>5813</td>\n",
       "      <td>NaN</td>\n",
       "    </tr>\n",
       "    <tr>\n",
       "      <th>5</th>\n",
       "      <td>7475333</td>\n",
       "      <td>2010-01-01 00:07:00</td>\n",
       "      <td>1807</td>\n",
       "      <td>165</td>\n",
       "      <td>$4.81</td>\n",
       "      <td>Swipe Transaction</td>\n",
       "      <td>20519</td>\n",
       "      <td>Bronx</td>\n",
       "      <td>NY</td>\n",
       "      <td>10464.00</td>\n",
       "      <td>5942</td>\n",
       "      <td>NaN</td>\n",
       "    </tr>\n",
       "    <tr>\n",
       "      <th>6</th>\n",
       "      <td>7475334</td>\n",
       "      <td>2010-01-01 00:09:00</td>\n",
       "      <td>1556</td>\n",
       "      <td>2972</td>\n",
       "      <td>$77.00</td>\n",
       "      <td>Swipe Transaction</td>\n",
       "      <td>59935</td>\n",
       "      <td>Beulah</td>\n",
       "      <td>ND</td>\n",
       "      <td>58523.00</td>\n",
       "      <td>5499</td>\n",
       "      <td>NaN</td>\n",
       "    </tr>\n",
       "    <tr>\n",
       "      <th>7</th>\n",
       "      <td>7475335</td>\n",
       "      <td>2010-01-01 00:14:00</td>\n",
       "      <td>1684</td>\n",
       "      <td>2140</td>\n",
       "      <td>$26.46</td>\n",
       "      <td>Online Transaction</td>\n",
       "      <td>39021</td>\n",
       "      <td>ONLINE</td>\n",
       "      <td>NaN</td>\n",
       "      <td>NaN</td>\n",
       "      <td>4784</td>\n",
       "      <td>NaN</td>\n",
       "    </tr>\n",
       "    <tr>\n",
       "      <th>8</th>\n",
       "      <td>7475336</td>\n",
       "      <td>2010-01-01 00:21:00</td>\n",
       "      <td>335</td>\n",
       "      <td>5131</td>\n",
       "      <td>$261.58</td>\n",
       "      <td>Online Transaction</td>\n",
       "      <td>50292</td>\n",
       "      <td>ONLINE</td>\n",
       "      <td>NaN</td>\n",
       "      <td>NaN</td>\n",
       "      <td>7801</td>\n",
       "      <td>NaN</td>\n",
       "    </tr>\n",
       "    <tr>\n",
       "      <th>9</th>\n",
       "      <td>7475337</td>\n",
       "      <td>2010-01-01 00:21:00</td>\n",
       "      <td>351</td>\n",
       "      <td>1112</td>\n",
       "      <td>$10.74</td>\n",
       "      <td>Swipe Transaction</td>\n",
       "      <td>3864</td>\n",
       "      <td>Flushing</td>\n",
       "      <td>NY</td>\n",
       "      <td>11355.00</td>\n",
       "      <td>5813</td>\n",
       "      <td>NaN</td>\n",
       "    </tr>\n",
       "  </tbody>\n",
       "</table>\n",
       "</div>"
      ],
      "text/plain": [
       "        id                 date  client_id  card_id   amount  \\\n",
       "0  7475327  2010-01-01 00:01:00       1556     2972  $-77.00   \n",
       "1  7475328  2010-01-01 00:02:00        561     4575   $14.57   \n",
       "2  7475329  2010-01-01 00:02:00       1129      102   $80.00   \n",
       "3  7475331  2010-01-01 00:05:00        430     2860  $200.00   \n",
       "4  7475332  2010-01-01 00:06:00        848     3915   $46.41   \n",
       "5  7475333  2010-01-01 00:07:00       1807      165    $4.81   \n",
       "6  7475334  2010-01-01 00:09:00       1556     2972   $77.00   \n",
       "7  7475335  2010-01-01 00:14:00       1684     2140   $26.46   \n",
       "8  7475336  2010-01-01 00:21:00        335     5131  $261.58   \n",
       "9  7475337  2010-01-01 00:21:00        351     1112   $10.74   \n",
       "\n",
       "             use_chip  merchant_id merchant_city merchant_state  \\\n",
       "0   Swipe Transaction        59935        Beulah             ND   \n",
       "1   Swipe Transaction        67570    Bettendorf             IA   \n",
       "2   Swipe Transaction        27092         Vista             CA   \n",
       "3   Swipe Transaction        27092   Crown Point             IN   \n",
       "4   Swipe Transaction        13051       Harwood             MD   \n",
       "5   Swipe Transaction        20519         Bronx             NY   \n",
       "6   Swipe Transaction        59935        Beulah             ND   \n",
       "7  Online Transaction        39021        ONLINE            NaN   \n",
       "8  Online Transaction        50292        ONLINE            NaN   \n",
       "9   Swipe Transaction         3864      Flushing             NY   \n",
       "\n",
       "                   zip   mcc errors  \n",
       "0             58523.00  5499    NaN  \n",
       "1             52722.00  5311    NaN  \n",
       "2             92084.00  4829    NaN  \n",
       "3             46307.00  4829    NaN  \n",
       "4             20776.00  5813    NaN  \n",
       "5             10464.00  5942    NaN  \n",
       "6             58523.00  5499    NaN  \n",
       "7                  NaN  4784    NaN  \n",
       "8                  NaN  7801    NaN  \n",
       "9             11355.00  5813    NaN  "
      ]
     },
     "execution_count": 2,
     "metadata": {},
     "output_type": "execute_result"
    }
   ],
   "source": [
    "transaction_df = pd.read_csv(\"transactions_data.csv\")\n",
    "transaction_df.head(10)"
   ]
  },
  {
   "cell_type": "code",
   "execution_count": 3,
   "metadata": {},
   "outputs": [
    {
     "name": "stdout",
     "output_type": "stream",
     "text": [
      "<class 'pandas.core.frame.DataFrame'>\n",
      "RangeIndex: 13305915 entries, 0 to 13305914\n",
      "Data columns (total 12 columns):\n",
      " #   Column          Dtype  \n",
      "---  ------          -----  \n",
      " 0   id              int64  \n",
      " 1   date            object \n",
      " 2   client_id       int64  \n",
      " 3   card_id         int64  \n",
      " 4   amount          object \n",
      " 5   use_chip        object \n",
      " 6   merchant_id     int64  \n",
      " 7   merchant_city   object \n",
      " 8   merchant_state  object \n",
      " 9   zip             float64\n",
      " 10  mcc             int64  \n",
      " 11  errors          object \n",
      "dtypes: float64(1), int64(5), object(6)\n",
      "memory usage: 1.2+ GB\n"
     ]
    }
   ],
   "source": [
    "transaction_df.info()"
   ]
  },
  {
   "cell_type": "code",
   "execution_count": 4,
   "metadata": {},
   "outputs": [
    {
     "data": {
      "text/html": [
       "<div>\n",
       "<style scoped>\n",
       "    .dataframe tbody tr th:only-of-type {\n",
       "        vertical-align: middle;\n",
       "    }\n",
       "\n",
       "    .dataframe tbody tr th {\n",
       "        vertical-align: top;\n",
       "    }\n",
       "\n",
       "    .dataframe thead th {\n",
       "        text-align: right;\n",
       "    }\n",
       "</style>\n",
       "<table border=\"1\" class=\"dataframe\">\n",
       "  <thead>\n",
       "    <tr style=\"text-align: right;\">\n",
       "      <th></th>\n",
       "      <th>id</th>\n",
       "      <th>date</th>\n",
       "      <th>client_id</th>\n",
       "      <th>card_id</th>\n",
       "      <th>amount</th>\n",
       "      <th>use_chip</th>\n",
       "      <th>merchant_id</th>\n",
       "      <th>merchant_city</th>\n",
       "      <th>merchant_state</th>\n",
       "      <th>zip</th>\n",
       "      <th>mcc</th>\n",
       "      <th>errors</th>\n",
       "    </tr>\n",
       "  </thead>\n",
       "  <tbody>\n",
       "    <tr>\n",
       "      <th>count</th>\n",
       "      <td>13305915.00</td>\n",
       "      <td>13305915</td>\n",
       "      <td>13305915.00</td>\n",
       "      <td>13305915.00</td>\n",
       "      <td>13305915</td>\n",
       "      <td>13305915</td>\n",
       "      <td>13305915.00</td>\n",
       "      <td>13305915</td>\n",
       "      <td>11742215</td>\n",
       "      <td>11653209.00</td>\n",
       "      <td>13305915.00</td>\n",
       "      <td>211393</td>\n",
       "    </tr>\n",
       "    <tr>\n",
       "      <th>unique</th>\n",
       "      <td>NaN</td>\n",
       "      <td>4136496</td>\n",
       "      <td>NaN</td>\n",
       "      <td>NaN</td>\n",
       "      <td>81161</td>\n",
       "      <td>3</td>\n",
       "      <td>NaN</td>\n",
       "      <td>12492</td>\n",
       "      <td>199</td>\n",
       "      <td>NaN</td>\n",
       "      <td>NaN</td>\n",
       "      <td>22</td>\n",
       "    </tr>\n",
       "    <tr>\n",
       "      <th>top</th>\n",
       "      <td>NaN</td>\n",
       "      <td>2011-06-09 12:46:00</td>\n",
       "      <td>NaN</td>\n",
       "      <td>NaN</td>\n",
       "      <td>$80.00</td>\n",
       "      <td>Swipe Transaction</td>\n",
       "      <td>NaN</td>\n",
       "      <td>ONLINE</td>\n",
       "      <td>CA</td>\n",
       "      <td>NaN</td>\n",
       "      <td>NaN</td>\n",
       "      <td>Insufficient Balance</td>\n",
       "    </tr>\n",
       "    <tr>\n",
       "      <th>freq</th>\n",
       "      <td>NaN</td>\n",
       "      <td>18</td>\n",
       "      <td>NaN</td>\n",
       "      <td>NaN</td>\n",
       "      <td>132115</td>\n",
       "      <td>6967185</td>\n",
       "      <td>NaN</td>\n",
       "      <td>1563700</td>\n",
       "      <td>1427087</td>\n",
       "      <td>NaN</td>\n",
       "      <td>NaN</td>\n",
       "      <td>130902</td>\n",
       "    </tr>\n",
       "    <tr>\n",
       "      <th>mean</th>\n",
       "      <td>15584024.57</td>\n",
       "      <td>NaN</td>\n",
       "      <td>1026.81</td>\n",
       "      <td>3475.27</td>\n",
       "      <td>NaN</td>\n",
       "      <td>NaN</td>\n",
       "      <td>47723.76</td>\n",
       "      <td>NaN</td>\n",
       "      <td>NaN</td>\n",
       "      <td>51327.82</td>\n",
       "      <td>5565.44</td>\n",
       "      <td>NaN</td>\n",
       "    </tr>\n",
       "    <tr>\n",
       "      <th>std</th>\n",
       "      <td>4704498.65</td>\n",
       "      <td>NaN</td>\n",
       "      <td>581.64</td>\n",
       "      <td>1674.36</td>\n",
       "      <td>NaN</td>\n",
       "      <td>NaN</td>\n",
       "      <td>25815.34</td>\n",
       "      <td>NaN</td>\n",
       "      <td>NaN</td>\n",
       "      <td>29404.23</td>\n",
       "      <td>875.70</td>\n",
       "      <td>NaN</td>\n",
       "    </tr>\n",
       "    <tr>\n",
       "      <th>min</th>\n",
       "      <td>7475327.00</td>\n",
       "      <td>NaN</td>\n",
       "      <td>0.00</td>\n",
       "      <td>0.00</td>\n",
       "      <td>NaN</td>\n",
       "      <td>NaN</td>\n",
       "      <td>1.00</td>\n",
       "      <td>NaN</td>\n",
       "      <td>NaN</td>\n",
       "      <td>1001.00</td>\n",
       "      <td>1711.00</td>\n",
       "      <td>NaN</td>\n",
       "    </tr>\n",
       "    <tr>\n",
       "      <th>25%</th>\n",
       "      <td>11506044.50</td>\n",
       "      <td>NaN</td>\n",
       "      <td>519.00</td>\n",
       "      <td>2413.00</td>\n",
       "      <td>NaN</td>\n",
       "      <td>NaN</td>\n",
       "      <td>25887.00</td>\n",
       "      <td>NaN</td>\n",
       "      <td>NaN</td>\n",
       "      <td>28602.00</td>\n",
       "      <td>5300.00</td>\n",
       "      <td>NaN</td>\n",
       "    </tr>\n",
       "    <tr>\n",
       "      <th>50%</th>\n",
       "      <td>15570866.00</td>\n",
       "      <td>NaN</td>\n",
       "      <td>1070.00</td>\n",
       "      <td>3584.00</td>\n",
       "      <td>NaN</td>\n",
       "      <td>NaN</td>\n",
       "      <td>45926.00</td>\n",
       "      <td>NaN</td>\n",
       "      <td>NaN</td>\n",
       "      <td>47670.00</td>\n",
       "      <td>5499.00</td>\n",
       "      <td>NaN</td>\n",
       "    </tr>\n",
       "    <tr>\n",
       "      <th>75%</th>\n",
       "      <td>19653605.50</td>\n",
       "      <td>NaN</td>\n",
       "      <td>1531.00</td>\n",
       "      <td>4901.00</td>\n",
       "      <td>NaN</td>\n",
       "      <td>NaN</td>\n",
       "      <td>67570.00</td>\n",
       "      <td>NaN</td>\n",
       "      <td>NaN</td>\n",
       "      <td>77901.00</td>\n",
       "      <td>5812.00</td>\n",
       "      <td>NaN</td>\n",
       "    </tr>\n",
       "    <tr>\n",
       "      <th>max</th>\n",
       "      <td>23761874.00</td>\n",
       "      <td>NaN</td>\n",
       "      <td>1998.00</td>\n",
       "      <td>6144.00</td>\n",
       "      <td>NaN</td>\n",
       "      <td>NaN</td>\n",
       "      <td>100342.00</td>\n",
       "      <td>NaN</td>\n",
       "      <td>NaN</td>\n",
       "      <td>99928.00</td>\n",
       "      <td>9402.00</td>\n",
       "      <td>NaN</td>\n",
       "    </tr>\n",
       "  </tbody>\n",
       "</table>\n",
       "</div>"
      ],
      "text/plain": [
       "                         id                 date            client_id  \\\n",
       "count           13305915.00             13305915          13305915.00   \n",
       "unique                  NaN              4136496                  NaN   \n",
       "top                     NaN  2011-06-09 12:46:00                  NaN   \n",
       "freq                    NaN                   18                  NaN   \n",
       "mean            15584024.57                  NaN              1026.81   \n",
       "std              4704498.65                  NaN               581.64   \n",
       "min              7475327.00                  NaN                 0.00   \n",
       "25%             11506044.50                  NaN               519.00   \n",
       "50%             15570866.00                  NaN              1070.00   \n",
       "75%             19653605.50                  NaN              1531.00   \n",
       "max             23761874.00                  NaN              1998.00   \n",
       "\n",
       "                    card_id    amount           use_chip          merchant_id  \\\n",
       "count           13305915.00  13305915           13305915          13305915.00   \n",
       "unique                  NaN     81161                  3                  NaN   \n",
       "top                     NaN    $80.00  Swipe Transaction                  NaN   \n",
       "freq                    NaN    132115            6967185                  NaN   \n",
       "mean                3475.27       NaN                NaN             47723.76   \n",
       "std                 1674.36       NaN                NaN             25815.34   \n",
       "min                    0.00       NaN                NaN                 1.00   \n",
       "25%                 2413.00       NaN                NaN             25887.00   \n",
       "50%                 3584.00       NaN                NaN             45926.00   \n",
       "75%                 4901.00       NaN                NaN             67570.00   \n",
       "max                 6144.00       NaN                NaN            100342.00   \n",
       "\n",
       "       merchant_city merchant_state                  zip                  mcc  \\\n",
       "count       13305915       11742215          11653209.00          13305915.00   \n",
       "unique         12492            199                  NaN                  NaN   \n",
       "top           ONLINE             CA                  NaN                  NaN   \n",
       "freq         1563700        1427087                  NaN                  NaN   \n",
       "mean             NaN            NaN             51327.82              5565.44   \n",
       "std              NaN            NaN             29404.23               875.70   \n",
       "min              NaN            NaN              1001.00              1711.00   \n",
       "25%              NaN            NaN             28602.00              5300.00   \n",
       "50%              NaN            NaN             47670.00              5499.00   \n",
       "75%              NaN            NaN             77901.00              5812.00   \n",
       "max              NaN            NaN             99928.00              9402.00   \n",
       "\n",
       "                      errors  \n",
       "count                 211393  \n",
       "unique                    22  \n",
       "top     Insufficient Balance  \n",
       "freq                  130902  \n",
       "mean                     NaN  \n",
       "std                      NaN  \n",
       "min                      NaN  \n",
       "25%                      NaN  \n",
       "50%                      NaN  \n",
       "75%                      NaN  \n",
       "max                      NaN  "
      ]
     },
     "execution_count": 4,
     "metadata": {},
     "output_type": "execute_result"
    }
   ],
   "source": [
    "transaction_df.describe(include=\"all\")"
   ]
  },
  {
   "cell_type": "code",
   "execution_count": 5,
   "metadata": {},
   "outputs": [
    {
     "data": {
      "text/html": [
       "<div>\n",
       "<style scoped>\n",
       "    .dataframe tbody tr th:only-of-type {\n",
       "        vertical-align: middle;\n",
       "    }\n",
       "\n",
       "    .dataframe tbody tr th {\n",
       "        vertical-align: top;\n",
       "    }\n",
       "\n",
       "    .dataframe thead th {\n",
       "        text-align: right;\n",
       "    }\n",
       "</style>\n",
       "<table border=\"1\" class=\"dataframe\">\n",
       "  <thead>\n",
       "    <tr style=\"text-align: right;\">\n",
       "      <th></th>\n",
       "      <th>target</th>\n",
       "    </tr>\n",
       "  </thead>\n",
       "  <tbody>\n",
       "    <tr>\n",
       "      <th>10649266</th>\n",
       "      <td>0</td>\n",
       "    </tr>\n",
       "    <tr>\n",
       "      <th>23410063</th>\n",
       "      <td>0</td>\n",
       "    </tr>\n",
       "    <tr>\n",
       "      <th>9316588</th>\n",
       "      <td>0</td>\n",
       "    </tr>\n",
       "    <tr>\n",
       "      <th>12478022</th>\n",
       "      <td>0</td>\n",
       "    </tr>\n",
       "    <tr>\n",
       "      <th>9558530</th>\n",
       "      <td>0</td>\n",
       "    </tr>\n",
       "  </tbody>\n",
       "</table>\n",
       "</div>"
      ],
      "text/plain": [
       "          target\n",
       "10649266       0\n",
       "23410063       0\n",
       "9316588        0\n",
       "12478022       0\n",
       "9558530        0"
      ]
     },
     "execution_count": 5,
     "metadata": {},
     "output_type": "execute_result"
    }
   ],
   "source": [
    "fruad_labels_df = pd.read_json(\"train_fraud_labels.json\")\n",
    "fruad_labels_df.loc[fruad_labels_df[\"target\"] == \"Yes\", \"target\"] = 1\n",
    "fruad_labels_df.loc[fruad_labels_df[\"target\"] == \"No\", \"target\"] = 0\n",
    "fruad_labels_df[\"target\"] = fruad_labels_df[\"target\"].astype(int)\n",
    "fruad_labels_df.head()"
   ]
  },
  {
   "cell_type": "code",
   "execution_count": 6,
   "metadata": {},
   "outputs": [
    {
     "data": {
      "text/plain": [
       "array([0, 1])"
      ]
     },
     "execution_count": 6,
     "metadata": {},
     "output_type": "execute_result"
    }
   ],
   "source": [
    "fruad_labels_df[\"target\"].unique()"
   ]
  },
  {
   "cell_type": "code",
   "execution_count": 7,
   "metadata": {},
   "outputs": [
    {
     "name": "stdout",
     "output_type": "stream",
     "text": [
      "<class 'pandas.core.frame.DataFrame'>\n",
      "Index: 8914963 entries, 10649266 to 15151926\n",
      "Data columns (total 1 columns):\n",
      " #   Column  Dtype\n",
      "---  ------  -----\n",
      " 0   target  int32\n",
      "dtypes: int32(1)\n",
      "memory usage: 102.0 MB\n"
     ]
    }
   ],
   "source": [
    "fruad_labels_df.info()"
   ]
  },
  {
   "cell_type": "code",
   "execution_count": 8,
   "metadata": {},
   "outputs": [],
   "source": [
    "fruad_labels_df.reset_index(inplace=True)\n",
    "fruad_labels_df.rename(columns={\"index\": \"id\"}, inplace=True)"
   ]
  },
  {
   "cell_type": "code",
   "execution_count": 9,
   "metadata": {},
   "outputs": [
    {
     "data": {
      "text/html": [
       "<div>\n",
       "<style scoped>\n",
       "    .dataframe tbody tr th:only-of-type {\n",
       "        vertical-align: middle;\n",
       "    }\n",
       "\n",
       "    .dataframe tbody tr th {\n",
       "        vertical-align: top;\n",
       "    }\n",
       "\n",
       "    .dataframe thead th {\n",
       "        text-align: right;\n",
       "    }\n",
       "</style>\n",
       "<table border=\"1\" class=\"dataframe\">\n",
       "  <thead>\n",
       "    <tr style=\"text-align: right;\">\n",
       "      <th></th>\n",
       "      <th>id</th>\n",
       "    </tr>\n",
       "    <tr>\n",
       "      <th>target</th>\n",
       "      <th></th>\n",
       "    </tr>\n",
       "  </thead>\n",
       "  <tbody>\n",
       "    <tr>\n",
       "      <th>0</th>\n",
       "      <td>8901631</td>\n",
       "    </tr>\n",
       "    <tr>\n",
       "      <th>1</th>\n",
       "      <td>13332</td>\n",
       "    </tr>\n",
       "  </tbody>\n",
       "</table>\n",
       "</div>"
      ],
      "text/plain": [
       "             id\n",
       "target         \n",
       "0       8901631\n",
       "1         13332"
      ]
     },
     "execution_count": 9,
     "metadata": {},
     "output_type": "execute_result"
    }
   ],
   "source": [
    "fruad_labels_df.groupby(by=\"target\").count()"
   ]
  },
  {
   "cell_type": "code",
   "execution_count": 10,
   "metadata": {},
   "outputs": [
    {
     "data": {
      "text/plain": [
       "'0.1497703061382796 %'"
      ]
     },
     "execution_count": 10,
     "metadata": {},
     "output_type": "execute_result"
    }
   ],
   "source": [
    "# Positive over Negative labels percentage\n",
    "f'{(len(fruad_labels_df[fruad_labels_df[\"target\"] == 1]) / len(fruad_labels_df[fruad_labels_df[\"target\"] == 0])) * 100} %'"
   ]
  },
  {
   "cell_type": "markdown",
   "metadata": {},
   "source": [
    "<h2>Merging the transactions dataset with fruad labels dataset</h2>"
   ]
  },
  {
   "cell_type": "code",
   "execution_count": 11,
   "metadata": {},
   "outputs": [
    {
     "data": {
      "text/html": [
       "<div>\n",
       "<style scoped>\n",
       "    .dataframe tbody tr th:only-of-type {\n",
       "        vertical-align: middle;\n",
       "    }\n",
       "\n",
       "    .dataframe tbody tr th {\n",
       "        vertical-align: top;\n",
       "    }\n",
       "\n",
       "    .dataframe thead th {\n",
       "        text-align: right;\n",
       "    }\n",
       "</style>\n",
       "<table border=\"1\" class=\"dataframe\">\n",
       "  <thead>\n",
       "    <tr style=\"text-align: right;\">\n",
       "      <th></th>\n",
       "      <th>id</th>\n",
       "      <th>date</th>\n",
       "      <th>client_id</th>\n",
       "      <th>card_id</th>\n",
       "      <th>amount</th>\n",
       "      <th>use_chip</th>\n",
       "      <th>merchant_id</th>\n",
       "      <th>merchant_city</th>\n",
       "      <th>merchant_state</th>\n",
       "      <th>zip</th>\n",
       "      <th>mcc</th>\n",
       "      <th>errors</th>\n",
       "      <th>target</th>\n",
       "    </tr>\n",
       "  </thead>\n",
       "  <tbody>\n",
       "    <tr>\n",
       "      <th>0</th>\n",
       "      <td>7475327</td>\n",
       "      <td>2010-01-01 00:01:00</td>\n",
       "      <td>1556</td>\n",
       "      <td>2972</td>\n",
       "      <td>$-77.00</td>\n",
       "      <td>Swipe Transaction</td>\n",
       "      <td>59935</td>\n",
       "      <td>Beulah</td>\n",
       "      <td>ND</td>\n",
       "      <td>58523.00</td>\n",
       "      <td>5499</td>\n",
       "      <td>NaN</td>\n",
       "      <td>0.00</td>\n",
       "    </tr>\n",
       "    <tr>\n",
       "      <th>1</th>\n",
       "      <td>7475328</td>\n",
       "      <td>2010-01-01 00:02:00</td>\n",
       "      <td>561</td>\n",
       "      <td>4575</td>\n",
       "      <td>$14.57</td>\n",
       "      <td>Swipe Transaction</td>\n",
       "      <td>67570</td>\n",
       "      <td>Bettendorf</td>\n",
       "      <td>IA</td>\n",
       "      <td>52722.00</td>\n",
       "      <td>5311</td>\n",
       "      <td>NaN</td>\n",
       "      <td>0.00</td>\n",
       "    </tr>\n",
       "    <tr>\n",
       "      <th>2</th>\n",
       "      <td>7475329</td>\n",
       "      <td>2010-01-01 00:02:00</td>\n",
       "      <td>1129</td>\n",
       "      <td>102</td>\n",
       "      <td>$80.00</td>\n",
       "      <td>Swipe Transaction</td>\n",
       "      <td>27092</td>\n",
       "      <td>Vista</td>\n",
       "      <td>CA</td>\n",
       "      <td>92084.00</td>\n",
       "      <td>4829</td>\n",
       "      <td>NaN</td>\n",
       "      <td>0.00</td>\n",
       "    </tr>\n",
       "    <tr>\n",
       "      <th>3</th>\n",
       "      <td>7475331</td>\n",
       "      <td>2010-01-01 00:05:00</td>\n",
       "      <td>430</td>\n",
       "      <td>2860</td>\n",
       "      <td>$200.00</td>\n",
       "      <td>Swipe Transaction</td>\n",
       "      <td>27092</td>\n",
       "      <td>Crown Point</td>\n",
       "      <td>IN</td>\n",
       "      <td>46307.00</td>\n",
       "      <td>4829</td>\n",
       "      <td>NaN</td>\n",
       "      <td>NaN</td>\n",
       "    </tr>\n",
       "    <tr>\n",
       "      <th>4</th>\n",
       "      <td>7475332</td>\n",
       "      <td>2010-01-01 00:06:00</td>\n",
       "      <td>848</td>\n",
       "      <td>3915</td>\n",
       "      <td>$46.41</td>\n",
       "      <td>Swipe Transaction</td>\n",
       "      <td>13051</td>\n",
       "      <td>Harwood</td>\n",
       "      <td>MD</td>\n",
       "      <td>20776.00</td>\n",
       "      <td>5813</td>\n",
       "      <td>NaN</td>\n",
       "      <td>0.00</td>\n",
       "    </tr>\n",
       "  </tbody>\n",
       "</table>\n",
       "</div>"
      ],
      "text/plain": [
       "        id                 date  client_id  card_id   amount  \\\n",
       "0  7475327  2010-01-01 00:01:00       1556     2972  $-77.00   \n",
       "1  7475328  2010-01-01 00:02:00        561     4575   $14.57   \n",
       "2  7475329  2010-01-01 00:02:00       1129      102   $80.00   \n",
       "3  7475331  2010-01-01 00:05:00        430     2860  $200.00   \n",
       "4  7475332  2010-01-01 00:06:00        848     3915   $46.41   \n",
       "\n",
       "            use_chip  merchant_id merchant_city merchant_state  \\\n",
       "0  Swipe Transaction        59935        Beulah             ND   \n",
       "1  Swipe Transaction        67570    Bettendorf             IA   \n",
       "2  Swipe Transaction        27092         Vista             CA   \n",
       "3  Swipe Transaction        27092   Crown Point             IN   \n",
       "4  Swipe Transaction        13051       Harwood             MD   \n",
       "\n",
       "                   zip   mcc errors               target  \n",
       "0             58523.00  5499    NaN                 0.00  \n",
       "1             52722.00  5311    NaN                 0.00  \n",
       "2             92084.00  4829    NaN                 0.00  \n",
       "3             46307.00  4829    NaN                  NaN  \n",
       "4             20776.00  5813    NaN                 0.00  "
      ]
     },
     "execution_count": 11,
     "metadata": {},
     "output_type": "execute_result"
    }
   ],
   "source": [
    "transaction_df = transaction_df.merge   (\n",
    "    fruad_labels_df[[\"id\", 'target']],\n",
    "    on=\"id\",\n",
    "    how=\"left\"\n",
    "    \n",
    ")\n",
    "transaction_df.head()"
   ]
  },
  {
   "cell_type": "markdown",
   "metadata": {},
   "source": [
    "<h3>Sampling labeled records</h3>"
   ]
  },
  {
   "cell_type": "code",
   "execution_count": 12,
   "metadata": {},
   "outputs": [
    {
     "data": {
      "text/html": [
       "<div>\n",
       "<style scoped>\n",
       "    .dataframe tbody tr th:only-of-type {\n",
       "        vertical-align: middle;\n",
       "    }\n",
       "\n",
       "    .dataframe tbody tr th {\n",
       "        vertical-align: top;\n",
       "    }\n",
       "\n",
       "    .dataframe thead th {\n",
       "        text-align: right;\n",
       "    }\n",
       "</style>\n",
       "<table border=\"1\" class=\"dataframe\">\n",
       "  <thead>\n",
       "    <tr style=\"text-align: right;\">\n",
       "      <th></th>\n",
       "      <th>id</th>\n",
       "      <th>date</th>\n",
       "      <th>client_id</th>\n",
       "      <th>card_id</th>\n",
       "      <th>amount</th>\n",
       "      <th>use_chip</th>\n",
       "      <th>merchant_id</th>\n",
       "      <th>merchant_city</th>\n",
       "      <th>merchant_state</th>\n",
       "      <th>zip</th>\n",
       "      <th>mcc</th>\n",
       "      <th>errors</th>\n",
       "      <th>target</th>\n",
       "    </tr>\n",
       "  </thead>\n",
       "  <tbody>\n",
       "    <tr>\n",
       "      <th>0</th>\n",
       "      <td>22960688</td>\n",
       "      <td>2019-05-15 11:24:00</td>\n",
       "      <td>1549</td>\n",
       "      <td>4825</td>\n",
       "      <td>$160.00</td>\n",
       "      <td>Chip Transaction</td>\n",
       "      <td>27092</td>\n",
       "      <td>Houston</td>\n",
       "      <td>TX</td>\n",
       "      <td>77268.00</td>\n",
       "      <td>4829</td>\n",
       "      <td>NaN</td>\n",
       "      <td>0.00</td>\n",
       "    </tr>\n",
       "    <tr>\n",
       "      <th>1</th>\n",
       "      <td>10960063</td>\n",
       "      <td>2012-04-07 10:05:00</td>\n",
       "      <td>1497</td>\n",
       "      <td>3655</td>\n",
       "      <td>$62.85</td>\n",
       "      <td>Swipe Transaction</td>\n",
       "      <td>72650</td>\n",
       "      <td>Sacramento</td>\n",
       "      <td>CA</td>\n",
       "      <td>95820.00</td>\n",
       "      <td>5300</td>\n",
       "      <td>NaN</td>\n",
       "      <td>0.00</td>\n",
       "    </tr>\n",
       "    <tr>\n",
       "      <th>2</th>\n",
       "      <td>16800548</td>\n",
       "      <td>2015-10-13 14:22:00</td>\n",
       "      <td>257</td>\n",
       "      <td>3816</td>\n",
       "      <td>$272.76</td>\n",
       "      <td>Online Transaction</td>\n",
       "      <td>19964</td>\n",
       "      <td>ONLINE</td>\n",
       "      <td>NaN</td>\n",
       "      <td>NaN</td>\n",
       "      <td>5311</td>\n",
       "      <td>NaN</td>\n",
       "      <td>1.00</td>\n",
       "    </tr>\n",
       "    <tr>\n",
       "      <th>3</th>\n",
       "      <td>22447253</td>\n",
       "      <td>2019-01-26 13:33:00</td>\n",
       "      <td>27</td>\n",
       "      <td>1051</td>\n",
       "      <td>$33.40</td>\n",
       "      <td>Chip Transaction</td>\n",
       "      <td>53492</td>\n",
       "      <td>Rome</td>\n",
       "      <td>Italy</td>\n",
       "      <td>NaN</td>\n",
       "      <td>5094</td>\n",
       "      <td>NaN</td>\n",
       "      <td>1.00</td>\n",
       "    </tr>\n",
       "    <tr>\n",
       "      <th>4</th>\n",
       "      <td>20684787</td>\n",
       "      <td>2018-01-17 22:45:00</td>\n",
       "      <td>261</td>\n",
       "      <td>30</td>\n",
       "      <td>$326.06</td>\n",
       "      <td>Online Transaction</td>\n",
       "      <td>38958</td>\n",
       "      <td>ONLINE</td>\n",
       "      <td>NaN</td>\n",
       "      <td>NaN</td>\n",
       "      <td>7801</td>\n",
       "      <td>NaN</td>\n",
       "      <td>0.00</td>\n",
       "    </tr>\n",
       "  </tbody>\n",
       "</table>\n",
       "</div>"
      ],
      "text/plain": [
       "         id                 date  client_id  card_id   amount  \\\n",
       "0  22960688  2019-05-15 11:24:00       1549     4825  $160.00   \n",
       "1  10960063  2012-04-07 10:05:00       1497     3655   $62.85   \n",
       "2  16800548  2015-10-13 14:22:00        257     3816  $272.76   \n",
       "3  22447253  2019-01-26 13:33:00         27     1051   $33.40   \n",
       "4  20684787  2018-01-17 22:45:00        261       30  $326.06   \n",
       "\n",
       "             use_chip  merchant_id merchant_city merchant_state  \\\n",
       "0    Chip Transaction        27092       Houston             TX   \n",
       "1   Swipe Transaction        72650    Sacramento             CA   \n",
       "2  Online Transaction        19964        ONLINE            NaN   \n",
       "3    Chip Transaction        53492          Rome          Italy   \n",
       "4  Online Transaction        38958        ONLINE            NaN   \n",
       "\n",
       "                   zip   mcc errors               target  \n",
       "0             77268.00  4829    NaN                 0.00  \n",
       "1             95820.00  5300    NaN                 0.00  \n",
       "2                  NaN  5311    NaN                 1.00  \n",
       "3                  NaN  5094    NaN                 1.00  \n",
       "4                  NaN  7801    NaN                 0.00  "
      ]
     },
     "execution_count": 12,
     "metadata": {},
     "output_type": "execute_result"
    }
   ],
   "source": [
    "fruad_records_df = transaction_df[transaction_df[\"target\"] == 1].copy()\n",
    "non_fruad_records_sampled = transaction_df[transaction_df[\"target\"] == 0].sample(n=len(fruad_records_df)*3, random_state=45).copy()\n",
    "balanced_df = pd.concat([fruad_records_df, non_fruad_records_sampled])\n",
    "# Shuffle the balanced data\n",
    "balanced_df = balanced_df.sample(frac=1, random_state=45).reset_index(drop=True)\n",
    "balanced_df.head()"
   ]
  },
  {
   "cell_type": "code",
   "execution_count": 13,
   "metadata": {},
   "outputs": [],
   "source": [
    "balanced_df.to_csv(\"balanced_and_sampled_data.csv\")"
   ]
  },
  {
   "cell_type": "markdown",
   "metadata": {},
   "source": [
    "<h3>Data & Feature preparation for Logistic Regression(Feature Engineering)</h3>"
   ]
  },
  {
   "cell_type": "code",
   "execution_count": null,
   "metadata": {},
   "outputs": [
    {
     "data": {
      "text/plain": [
       "array([], dtype=object)"
      ]
     },
     "execution_count": 14,
     "metadata": {},
     "output_type": "execute_result"
    }
   ],
   "source": [
    "# Checking for odd values for amount\n",
    "balanced_df[balanced_df[\"amount\"].str.match(r\"^^\\$-?\\d+(\\.\\d{1,2})?$\") == False][\"amount\"].unique()"
   ]
  },
  {
   "cell_type": "code",
   "execution_count": null,
   "metadata": {},
   "outputs": [
    {
     "data": {
      "text/plain": [
       "0                 160.00\n",
       "1                  62.85\n",
       "2                 272.76\n",
       "3                  33.40\n",
       "4                 326.06\n",
       "Name: amount, dtype: float64"
      ]
     },
     "execution_count": 15,
     "metadata": {},
     "output_type": "execute_result"
    }
   ],
   "source": [
    "balanced_df[\"amount\"] = balanced_df[\"amount\"].str.replace(\"$\", \"\").astype(float)\n",
    "balanced_df[\"amount\"].head()"
   ]
  },
  {
   "cell_type": "code",
   "execution_count": null,
   "metadata": {},
   "outputs": [
    {
     "name": "stdout",
     "output_type": "stream",
     "text": [
      "<class 'pandas.core.frame.DataFrame'>\n",
      "RangeIndex: 53328 entries, 0 to 53327\n",
      "Data columns (total 13 columns):\n",
      " #   Column          Non-Null Count  Dtype         \n",
      "---  ------          --------------  -----         \n",
      " 0   id              53328 non-null  int64         \n",
      " 1   date            53328 non-null  datetime64[ns]\n",
      " 2   client_id       53328 non-null  int64         \n",
      " 3   card_id         53328 non-null  int64         \n",
      " 4   amount          53328 non-null  float64       \n",
      " 5   use_chip        53328 non-null  object        \n",
      " 6   merchant_id     53328 non-null  int64         \n",
      " 7   merchant_city   53328 non-null  object        \n",
      " 8   merchant_state  39859 non-null  object        \n",
      " 9   zip             36292 non-null  float64       \n",
      " 10  mcc             53328 non-null  int64         \n",
      " 11  errors          1209 non-null   object        \n",
      " 12  target          53328 non-null  float64       \n",
      "dtypes: datetime64[ns](1), float64(3), int64(5), object(4)\n",
      "memory usage: 5.3+ MB\n"
     ]
    }
   ],
   "source": [
    "balanced_df[\"date\"] = pd.to_datetime(balanced_df[\"date\"], format=r\"%Y-%m-%d %H:%M:%S\")\n",
    "balanced_df.info()"
   ]
  },
  {
   "cell_type": "code",
   "execution_count": 17,
   "metadata": {},
   "outputs": [],
   "source": [
    "# Finding that each transaction wich day of year happend.(from 0 to 365)\n",
    "day_of_year = balanced_df[\"date\"].dt.dayofyear\n",
    "\n",
    "# Converting the day of the year to a sine value to represent its cyclic nature. \n",
    "# This helps the model understand that days repeat in a cycle (e.g., January is closer to December in time).\n",
    "balanced_df[\"sin_day\"] = np.sin(2 * np.pi * day_of_year / 365)"
   ]
  },
  {
   "cell_type": "code",
   "execution_count": 18,
   "metadata": {},
   "outputs": [
    {
     "data": {
      "text/plain": [
       "0                   0.73\n",
       "1                   0.99\n",
       "2                  -0.98\n",
       "3                   0.43\n",
       "4                   0.29\n",
       "Name: sin_day, dtype: float64"
      ]
     },
     "execution_count": 18,
     "metadata": {},
     "output_type": "execute_result"
    }
   ],
   "source": [
    "balanced_df[\"sin_day\"].head(5)"
   ]
  },
  {
   "cell_type": "code",
   "execution_count": null,
   "metadata": {},
   "outputs": [
    {
     "data": {
      "text/plain": [
       "<Axes: xlabel='target', ylabel='sin_day'>"
      ]
     },
     "execution_count": 19,
     "metadata": {},
     "output_type": "execute_result"
    },
    {
     "data": {
      "image/png": "[encoded data removed]",
      "text/plain": [
       "<Figure size 640x480 with 1 Axes>"
      ]
     },
     "metadata": {},
     "output_type": "display_data"
    }
   ],
   "source": [
    "sns.boxplot(data=balanced_df, x='target', y=\"sin_day\")"
   ]
  },
  {
   "cell_type": "code",
   "execution_count": 20,
   "metadata": {},
   "outputs": [
    {
     "data": {
      "image/png": "[encoded data removed]",
      "text/plain": [
       "<Figure size 640x480 with 1 Axes>"
      ]
     },
     "metadata": {},
     "output_type": "display_data"
    }
   ],
   "source": [
    "sns.kdeplot(data=balanced_df, x='sin_day', hue=\"target\", fill=True, common_norm=False, alpha=0.5)\n",
    "plt.title(\"Density Plot of sin_day by Target\")\n",
    "plt.xlabel(\"sin_day\")\n",
    "plt.ylabel(\"Density\")\n",
    "plt.show()"
   ]
  },
  {
   "cell_type": "code",
   "execution_count": 21,
   "metadata": {},
   "outputs": [
    {
     "data": {
      "image/png": "[encoded data removed]",
      "text/plain": [
       "<Figure size 640x480 with 1 Axes>"
      ]
     },
     "metadata": {},
     "output_type": "display_data"
    }
   ],
   "source": [
    "sns.kdeplot(data=balanced_df, x='date', hue=\"target\", fill=True, common_norm=False, alpha=0.5)\n",
    "plt.title(\"Density Plot of sin_day by Target\")\n",
    "plt.xlabel(\"sin_day\")\n",
    "plt.ylabel(\"Density\")\n",
    "plt.show()"
   ]
  },
  {
   "cell_type": "code",
   "execution_count": null,
   "metadata": {},
   "outputs": [
    {
     "data": {
      "text/html": [
       "<div>\n",
       "<style scoped>\n",
       "    .dataframe tbody tr th:only-of-type {\n",
       "        vertical-align: middle;\n",
       "    }\n",
       "\n",
       "    .dataframe tbody tr th {\n",
       "        vertical-align: top;\n",
       "    }\n",
       "\n",
       "    .dataframe thead th {\n",
       "        text-align: right;\n",
       "    }\n",
       "</style>\n",
       "<table border=\"1\" class=\"dataframe\">\n",
       "  <thead>\n",
       "    <tr style=\"text-align: right;\">\n",
       "      <th></th>\n",
       "      <th>id</th>\n",
       "      <th>date</th>\n",
       "      <th>client_id</th>\n",
       "      <th>card_id</th>\n",
       "      <th>amount</th>\n",
       "      <th>use_chip</th>\n",
       "      <th>merchant_id</th>\n",
       "      <th>merchant_city</th>\n",
       "      <th>merchant_state</th>\n",
       "      <th>zip</th>\n",
       "      <th>mcc</th>\n",
       "      <th>errors</th>\n",
       "      <th>target</th>\n",
       "      <th>sin_day</th>\n",
       "      <th>event_time</th>\n",
       "    </tr>\n",
       "  </thead>\n",
       "  <tbody>\n",
       "    <tr>\n",
       "      <th>0</th>\n",
       "      <td>22960688</td>\n",
       "      <td>2019-05-15 11:24:00</td>\n",
       "      <td>1549</td>\n",
       "      <td>4825</td>\n",
       "      <td>160.00</td>\n",
       "      <td>Chip Transaction</td>\n",
       "      <td>27092</td>\n",
       "      <td>Houston</td>\n",
       "      <td>TX</td>\n",
       "      <td>77268.00</td>\n",
       "      <td>4829</td>\n",
       "      <td>NaN</td>\n",
       "      <td>0.00</td>\n",
       "      <td>0.73</td>\n",
       "      <td>11.40</td>\n",
       "    </tr>\n",
       "    <tr>\n",
       "      <th>1</th>\n",
       "      <td>10960063</td>\n",
       "      <td>2012-04-07 10:05:00</td>\n",
       "      <td>1497</td>\n",
       "      <td>3655</td>\n",
       "      <td>62.85</td>\n",
       "      <td>Swipe Transaction</td>\n",
       "      <td>72650</td>\n",
       "      <td>Sacramento</td>\n",
       "      <td>CA</td>\n",
       "      <td>95820.00</td>\n",
       "      <td>5300</td>\n",
       "      <td>NaN</td>\n",
       "      <td>0.00</td>\n",
       "      <td>0.99</td>\n",
       "      <td>10.08</td>\n",
       "    </tr>\n",
       "  </tbody>\n",
       "</table>\n",
       "</div>"
      ],
      "text/plain": [
       "         id                date  client_id  card_id               amount  \\\n",
       "0  22960688 2019-05-15 11:24:00       1549     4825               160.00   \n",
       "1  10960063 2012-04-07 10:05:00       1497     3655                62.85   \n",
       "\n",
       "            use_chip  merchant_id merchant_city merchant_state  \\\n",
       "0   Chip Transaction        27092       Houston             TX   \n",
       "1  Swipe Transaction        72650    Sacramento             CA   \n",
       "\n",
       "                   zip   mcc errors               target              sin_day  \\\n",
       "0             77268.00  4829    NaN                 0.00                 0.73   \n",
       "1             95820.00  5300    NaN                 0.00                 0.99   \n",
       "\n",
       "            event_time  \n",
       "0                11.40  \n",
       "1                10.08  "
      ]
     },
     "execution_count": 22,
     "metadata": {},
     "output_type": "execute_result"
    }
   ],
   "source": [
    "# Adding a new feature to the dataset by converting daily times to minutes from the beginning of the day (00:00)\n",
    "from datetime import time\n",
    "midnight = time(hour=0, minute=0, second=0)\n",
    "balanced_df[\"event_time\"] = (balanced_df[\"date\"] - balanced_df[\"date\"].dt.normalize()).dt.total_seconds() / 3600\n",
    "balanced_df[\"event_time\"] = balanced_df[\"event_time\"].round(2)\n",
    "balanced_df.head(2)\n"
   ]
  },
  {
   "cell_type": "code",
   "execution_count": 23,
   "metadata": {},
   "outputs": [
    {
     "data": {
      "text/html": [
       "<div>\n",
       "<style scoped>\n",
       "    .dataframe tbody tr th:only-of-type {\n",
       "        vertical-align: middle;\n",
       "    }\n",
       "\n",
       "    .dataframe tbody tr th {\n",
       "        vertical-align: top;\n",
       "    }\n",
       "\n",
       "    .dataframe thead th {\n",
       "        text-align: right;\n",
       "    }\n",
       "</style>\n",
       "<table border=\"1\" class=\"dataframe\">\n",
       "  <thead>\n",
       "    <tr style=\"text-align: right;\">\n",
       "      <th></th>\n",
       "      <th>use_Chip Transaction</th>\n",
       "      <th>use_Online Transaction</th>\n",
       "      <th>use_Swipe Transaction</th>\n",
       "    </tr>\n",
       "  </thead>\n",
       "  <tbody>\n",
       "    <tr>\n",
       "      <th>0</th>\n",
       "      <td>True</td>\n",
       "      <td>False</td>\n",
       "      <td>False</td>\n",
       "    </tr>\n",
       "    <tr>\n",
       "      <th>1</th>\n",
       "      <td>False</td>\n",
       "      <td>False</td>\n",
       "      <td>True</td>\n",
       "    </tr>\n",
       "    <tr>\n",
       "      <th>2</th>\n",
       "      <td>False</td>\n",
       "      <td>True</td>\n",
       "      <td>False</td>\n",
       "    </tr>\n",
       "  </tbody>\n",
       "</table>\n",
       "</div>"
      ],
      "text/plain": [
       "   use_Chip Transaction  use_Online Transaction  use_Swipe Transaction\n",
       "0                  True                   False                  False\n",
       "1                 False                   False                   True\n",
       "2                 False                    True                  False"
      ]
     },
     "execution_count": 23,
     "metadata": {},
     "output_type": "execute_result"
    }
   ],
   "source": [
    "# One-Hot encoding the use_chip feature for using it in Logistic Regression\n",
    "use_chip_one_hot = pd.get_dummies(balanced_df[\"use_chip\"], prefix=\"use\")\n",
    "balanced_df = pd.concat([balanced_df, use_chip_one_hot], axis=1)\n",
    "use_chip_one_hot.head(3)"
   ]
  },
  {
   "cell_type": "code",
   "execution_count": 24,
   "metadata": {},
   "outputs": [
    {
     "data": {
      "text/html": [
       "<div>\n",
       "<style scoped>\n",
       "    .dataframe tbody tr th:only-of-type {\n",
       "        vertical-align: middle;\n",
       "    }\n",
       "\n",
       "    .dataframe tbody tr th {\n",
       "        vertical-align: top;\n",
       "    }\n",
       "\n",
       "    .dataframe thead th {\n",
       "        text-align: right;\n",
       "    }\n",
       "</style>\n",
       "<table border=\"1\" class=\"dataframe\">\n",
       "  <thead>\n",
       "    <tr style=\"text-align: right;\">\n",
       "      <th></th>\n",
       "      <th>id</th>\n",
       "      <th>date</th>\n",
       "      <th>client_id</th>\n",
       "      <th>card_id</th>\n",
       "      <th>amount</th>\n",
       "      <th>use_chip</th>\n",
       "      <th>merchant_id</th>\n",
       "      <th>merchant_city</th>\n",
       "      <th>merchant_state</th>\n",
       "      <th>zip</th>\n",
       "      <th>mcc</th>\n",
       "      <th>errors</th>\n",
       "      <th>target</th>\n",
       "      <th>sin_day</th>\n",
       "      <th>event_time</th>\n",
       "      <th>use_Chip Transaction</th>\n",
       "      <th>use_Online Transaction</th>\n",
       "      <th>use_Swipe Transaction</th>\n",
       "    </tr>\n",
       "  </thead>\n",
       "  <tbody>\n",
       "    <tr>\n",
       "      <th>0</th>\n",
       "      <td>22960688</td>\n",
       "      <td>2019-05-15 11:24:00</td>\n",
       "      <td>1549</td>\n",
       "      <td>4825</td>\n",
       "      <td>160.00</td>\n",
       "      <td>Chip Transaction</td>\n",
       "      <td>27092</td>\n",
       "      <td>Houston</td>\n",
       "      <td>TX</td>\n",
       "      <td>77268.00</td>\n",
       "      <td>4829</td>\n",
       "      <td>NaN</td>\n",
       "      <td>0.00</td>\n",
       "      <td>0.73</td>\n",
       "      <td>11.40</td>\n",
       "      <td>1</td>\n",
       "      <td>0</td>\n",
       "      <td>0</td>\n",
       "    </tr>\n",
       "    <tr>\n",
       "      <th>1</th>\n",
       "      <td>10960063</td>\n",
       "      <td>2012-04-07 10:05:00</td>\n",
       "      <td>1497</td>\n",
       "      <td>3655</td>\n",
       "      <td>62.85</td>\n",
       "      <td>Swipe Transaction</td>\n",
       "      <td>72650</td>\n",
       "      <td>Sacramento</td>\n",
       "      <td>CA</td>\n",
       "      <td>95820.00</td>\n",
       "      <td>5300</td>\n",
       "      <td>NaN</td>\n",
       "      <td>0.00</td>\n",
       "      <td>0.99</td>\n",
       "      <td>10.08</td>\n",
       "      <td>0</td>\n",
       "      <td>0</td>\n",
       "      <td>1</td>\n",
       "    </tr>\n",
       "  </tbody>\n",
       "</table>\n",
       "</div>"
      ],
      "text/plain": [
       "         id                date  client_id  card_id               amount  \\\n",
       "0  22960688 2019-05-15 11:24:00       1549     4825               160.00   \n",
       "1  10960063 2012-04-07 10:05:00       1497     3655                62.85   \n",
       "\n",
       "            use_chip  merchant_id merchant_city merchant_state  \\\n",
       "0   Chip Transaction        27092       Houston             TX   \n",
       "1  Swipe Transaction        72650    Sacramento             CA   \n",
       "\n",
       "                   zip   mcc errors               target              sin_day  \\\n",
       "0             77268.00  4829    NaN                 0.00                 0.73   \n",
       "1             95820.00  5300    NaN                 0.00                 0.99   \n",
       "\n",
       "            event_time  use_Chip Transaction  use_Online Transaction  \\\n",
       "0                11.40                     1                       0   \n",
       "1                10.08                     0                       0   \n",
       "\n",
       "   use_Swipe Transaction  \n",
       "0                      0  \n",
       "1                      1  "
      ]
     },
     "execution_count": 24,
     "metadata": {},
     "output_type": "execute_result"
    }
   ],
   "source": [
    "balanced_df[\"use_Chip Transaction\"] = balanced_df[\"use_Chip Transaction\"].astype(int)\n",
    "balanced_df[\"use_Online Transaction\"] = balanced_df[\"use_Online Transaction\"].astype(int)\n",
    "balanced_df[\"use_Swipe Transaction\"] = balanced_df[\"use_Swipe Transaction\"].astype(int)\n",
    "balanced_df.head(2)"
   ]
  },
  {
   "cell_type": "code",
   "execution_count": 25,
   "metadata": {},
   "outputs": [],
   "source": [
    "# Making a copy of balanced_df before droping some of the unusable feature. (raw date,use_chip)\n",
    "balanced_df_copy = balanced_df.copy()"
   ]
  },
  {
   "cell_type": "code",
   "execution_count": 26,
   "metadata": {},
   "outputs": [],
   "source": [
    "# balanced_df.drop([\"use_chip\", \"date\"], axis=1, inplace=True)\n",
    "# balanced_df.head(2)"
   ]
  },
  {
   "cell_type": "code",
   "execution_count": 27,
   "metadata": {},
   "outputs": [
    {
     "name": "stdout",
     "output_type": "stream",
     "text": [
      "target\n",
      "0.00    2046\n",
      "1.00     490\n",
      "Name: count, dtype: int64\n"
     ]
    }
   ],
   "source": [
    "negative_transactions = balanced_df[balanced_df['amount'] < 0]\n",
    "print(negative_transactions['target'].value_counts())"
   ]
  },
  {
   "cell_type": "code",
   "execution_count": null,
   "metadata": {},
   "outputs": [
    {
     "data": {
      "text/html": [
       "<div>\n",
       "<style scoped>\n",
       "    .dataframe tbody tr th:only-of-type {\n",
       "        vertical-align: middle;\n",
       "    }\n",
       "\n",
       "    .dataframe tbody tr th {\n",
       "        vertical-align: top;\n",
       "    }\n",
       "\n",
       "    .dataframe thead th {\n",
       "        text-align: right;\n",
       "    }\n",
       "</style>\n",
       "<table border=\"1\" class=\"dataframe\">\n",
       "  <thead>\n",
       "    <tr style=\"text-align: right;\">\n",
       "      <th></th>\n",
       "      <th>id</th>\n",
       "      <th>date</th>\n",
       "      <th>client_id</th>\n",
       "      <th>card_id</th>\n",
       "      <th>amount</th>\n",
       "      <th>use_chip</th>\n",
       "      <th>merchant_id</th>\n",
       "      <th>merchant_city</th>\n",
       "      <th>merchant_state</th>\n",
       "      <th>zip</th>\n",
       "      <th>mcc</th>\n",
       "      <th>errors</th>\n",
       "      <th>target</th>\n",
       "      <th>sin_day</th>\n",
       "      <th>event_time</th>\n",
       "      <th>use_Chip Transaction</th>\n",
       "      <th>use_Online Transaction</th>\n",
       "      <th>use_Swipe Transaction</th>\n",
       "      <th>is_expenses</th>\n",
       "    </tr>\n",
       "  </thead>\n",
       "  <tbody>\n",
       "    <tr>\n",
       "      <th>122</th>\n",
       "      <td>14254048</td>\n",
       "      <td>2014-04-10 15:12:00</td>\n",
       "      <td>398</td>\n",
       "      <td>2012</td>\n",
       "      <td>483.00</td>\n",
       "      <td>Swipe Transaction</td>\n",
       "      <td>41523</td>\n",
       "      <td>Sacramento</td>\n",
       "      <td>CA</td>\n",
       "      <td>95823.00</td>\n",
       "      <td>3387</td>\n",
       "      <td>NaN</td>\n",
       "      <td>0.00</td>\n",
       "      <td>0.99</td>\n",
       "      <td>15.20</td>\n",
       "      <td>0</td>\n",
       "      <td>0</td>\n",
       "      <td>1</td>\n",
       "      <td>1</td>\n",
       "    </tr>\n",
       "    <tr>\n",
       "      <th>126</th>\n",
       "      <td>16095031</td>\n",
       "      <td>2015-05-15 18:41:00</td>\n",
       "      <td>178</td>\n",
       "      <td>4261</td>\n",
       "      <td>276.00</td>\n",
       "      <td>Chip Transaction</td>\n",
       "      <td>7777</td>\n",
       "      <td>White Plains</td>\n",
       "      <td>NY</td>\n",
       "      <td>10603.00</td>\n",
       "      <td>3684</td>\n",
       "      <td>NaN</td>\n",
       "      <td>0.00</td>\n",
       "      <td>0.73</td>\n",
       "      <td>18.68</td>\n",
       "      <td>1</td>\n",
       "      <td>0</td>\n",
       "      <td>0</td>\n",
       "      <td>1</td>\n",
       "    </tr>\n",
       "    <tr>\n",
       "      <th>136</th>\n",
       "      <td>7881926</td>\n",
       "      <td>2010-04-13 13:21:00</td>\n",
       "      <td>604</td>\n",
       "      <td>4280</td>\n",
       "      <td>343.00</td>\n",
       "      <td>Online Transaction</td>\n",
       "      <td>57133</td>\n",
       "      <td>ONLINE</td>\n",
       "      <td>NaN</td>\n",
       "      <td>NaN</td>\n",
       "      <td>3730</td>\n",
       "      <td>NaN</td>\n",
       "      <td>1.00</td>\n",
       "      <td>0.98</td>\n",
       "      <td>13.35</td>\n",
       "      <td>0</td>\n",
       "      <td>1</td>\n",
       "      <td>0</td>\n",
       "      <td>1</td>\n",
       "    </tr>\n",
       "    <tr>\n",
       "      <th>143</th>\n",
       "      <td>10234559</td>\n",
       "      <td>2011-10-23 13:50:00</td>\n",
       "      <td>1332</td>\n",
       "      <td>2406</td>\n",
       "      <td>55.00</td>\n",
       "      <td>Swipe Transaction</td>\n",
       "      <td>59935</td>\n",
       "      <td>Port Chester</td>\n",
       "      <td>NY</td>\n",
       "      <td>10573.00</td>\n",
       "      <td>5499</td>\n",
       "      <td>NaN</td>\n",
       "      <td>0.00</td>\n",
       "      <td>-0.93</td>\n",
       "      <td>13.83</td>\n",
       "      <td>0</td>\n",
       "      <td>0</td>\n",
       "      <td>1</td>\n",
       "      <td>1</td>\n",
       "    </tr>\n",
       "    <tr>\n",
       "      <th>149</th>\n",
       "      <td>12544271</td>\n",
       "      <td>2013-03-30 15:02:00</td>\n",
       "      <td>100</td>\n",
       "      <td>5903</td>\n",
       "      <td>60.00</td>\n",
       "      <td>Swipe Transaction</td>\n",
       "      <td>43293</td>\n",
       "      <td>Barcelona</td>\n",
       "      <td>Spain</td>\n",
       "      <td>NaN</td>\n",
       "      <td>5499</td>\n",
       "      <td>NaN</td>\n",
       "      <td>0.00</td>\n",
       "      <td>1.00</td>\n",
       "      <td>15.03</td>\n",
       "      <td>0</td>\n",
       "      <td>0</td>\n",
       "      <td>1</td>\n",
       "      <td>1</td>\n",
       "    </tr>\n",
       "  </tbody>\n",
       "</table>\n",
       "</div>"
      ],
      "text/plain": [
       "           id                date  client_id  card_id               amount  \\\n",
       "122  14254048 2014-04-10 15:12:00        398     2012               483.00   \n",
       "126  16095031 2015-05-15 18:41:00        178     4261               276.00   \n",
       "136   7881926 2010-04-13 13:21:00        604     4280               343.00   \n",
       "143  10234559 2011-10-23 13:50:00       1332     2406                55.00   \n",
       "149  12544271 2013-03-30 15:02:00        100     5903                60.00   \n",
       "\n",
       "               use_chip  merchant_id merchant_city merchant_state  \\\n",
       "122   Swipe Transaction        41523    Sacramento             CA   \n",
       "126    Chip Transaction         7777  White Plains             NY   \n",
       "136  Online Transaction        57133        ONLINE            NaN   \n",
       "143   Swipe Transaction        59935  Port Chester             NY   \n",
       "149   Swipe Transaction        43293     Barcelona          Spain   \n",
       "\n",
       "                     zip   mcc errors               target  \\\n",
       "122             95823.00  3387    NaN                 0.00   \n",
       "126             10603.00  3684    NaN                 0.00   \n",
       "136                  NaN  3730    NaN                 1.00   \n",
       "143             10573.00  5499    NaN                 0.00   \n",
       "149                  NaN  5499    NaN                 0.00   \n",
       "\n",
       "                 sin_day           event_time  use_Chip Transaction  \\\n",
       "122                 0.99                15.20                     0   \n",
       "126                 0.73                18.68                     1   \n",
       "136                 0.98                13.35                     0   \n",
       "143                -0.93                13.83                     0   \n",
       "149                 1.00                15.03                     0   \n",
       "\n",
       "     use_Online Transaction  use_Swipe Transaction  is_expenses  \n",
       "122                       0                      1            1  \n",
       "126                       0                      0            1  \n",
       "136                       1                      0            1  \n",
       "143                       0                      1            1  \n",
       "149                       0                      1            1  "
      ]
     },
     "execution_count": 28,
     "metadata": {},
     "output_type": "execute_result"
    }
   ],
   "source": [
    "# Adding a new feature that shows is the transaction expenses(When the amount value is negative) or not(if the amount value is positive)?\n",
    "# Taking the abslute value of amount's column\n",
    "balanced_df[\"is_expenses\"] = balanced_df[\"amount\"].apply(lambda x: 1 if x < 0.0 else 0)\n",
    "balanced_df[\"amount\"] = balanced_df[\"amount\"].abs()\n",
    "balanced_df[balanced_df[\"is_expenses\"] == 1].head(5)"
   ]
  },
  {
   "cell_type": "code",
   "execution_count": 29,
   "metadata": {},
   "outputs": [
    {
     "data": {
      "text/plain": [
       "1.61436209737171"
      ]
     },
     "execution_count": 29,
     "metadata": {},
     "output_type": "execute_result"
    }
   ],
   "source": [
    "(transaction_df['errors'].notna().sum() / transaction_df['errors'].isna().sum()) * 100"
   ]
  },
  {
   "cell_type": "code",
   "execution_count": 30,
   "metadata": {},
   "outputs": [],
   "source": [
    "del transaction_df\n",
    "del fruad_labels_df"
   ]
  },
  {
   "cell_type": "code",
   "execution_count": null,
   "metadata": {},
   "outputs": [
    {
     "data": {
      "text/plain": [
       "2.31969147527773"
      ]
     },
     "execution_count": 31,
     "metadata": {},
     "output_type": "execute_result"
    }
   ],
   "source": [
    "(balanced_df['errors'].notna().sum() / balanced_df['errors'].isna().sum()) * 100"
   ]
  },
  {
   "cell_type": "code",
   "execution_count": 32,
   "metadata": {},
   "outputs": [
    {
     "data": {
      "text/plain": [
       "array([nan, 'Technical Glitch', 'Insufficient Balance', 'Bad Expiration',\n",
       "       'Bad CVV', 'Bad PIN', 'Bad Card Number',\n",
       "       'Bad CVV,Technical Glitch', 'Bad Zipcode',\n",
       "       'Bad CVV,Insufficient Balance', 'Bad PIN,Technical Glitch',\n",
       "       'Bad PIN,Insufficient Balance',\n",
       "       'Bad Card Number,Insufficient Balance'], dtype=object)"
      ]
     },
     "execution_count": 32,
     "metadata": {},
     "output_type": "execute_result"
    }
   ],
   "source": [
    "balanced_df['errors'].unique()"
   ]
  },
  {
   "cell_type": "code",
   "execution_count": null,
   "metadata": {},
   "outputs": [
    {
     "data": {
      "text/html": [
       "<div>\n",
       "<style scoped>\n",
       "    .dataframe tbody tr th:only-of-type {\n",
       "        vertical-align: middle;\n",
       "    }\n",
       "\n",
       "    .dataframe tbody tr th {\n",
       "        vertical-align: top;\n",
       "    }\n",
       "\n",
       "    .dataframe thead th {\n",
       "        text-align: right;\n",
       "    }\n",
       "</style>\n",
       "<table border=\"1\" class=\"dataframe\">\n",
       "  <thead>\n",
       "    <tr style=\"text-align: right;\">\n",
       "      <th>target</th>\n",
       "      <th>0.00</th>\n",
       "      <th>1.00</th>\n",
       "      <th>fraud_ratio</th>\n",
       "    </tr>\n",
       "    <tr>\n",
       "      <th>errors</th>\n",
       "      <th></th>\n",
       "      <th></th>\n",
       "      <th></th>\n",
       "    </tr>\n",
       "  </thead>\n",
       "  <tbody>\n",
       "    <tr>\n",
       "      <th>Bad CVV,Insufficient Balance</th>\n",
       "      <td>0</td>\n",
       "      <td>2</td>\n",
       "      <td>1.00</td>\n",
       "    </tr>\n",
       "    <tr>\n",
       "      <th>Bad CVV,Technical Glitch</th>\n",
       "      <td>0</td>\n",
       "      <td>1</td>\n",
       "      <td>1.00</td>\n",
       "    </tr>\n",
       "    <tr>\n",
       "      <th>Bad Card Number,Insufficient Balance</th>\n",
       "      <td>0</td>\n",
       "      <td>1</td>\n",
       "      <td>1.00</td>\n",
       "    </tr>\n",
       "    <tr>\n",
       "      <th>Bad PIN,Insufficient Balance</th>\n",
       "      <td>0</td>\n",
       "      <td>1</td>\n",
       "      <td>1.00</td>\n",
       "    </tr>\n",
       "    <tr>\n",
       "      <th>Bad CVV</th>\n",
       "      <td>23</td>\n",
       "      <td>139</td>\n",
       "      <td>0.86</td>\n",
       "    </tr>\n",
       "    <tr>\n",
       "      <th>Bad Expiration</th>\n",
       "      <td>19</td>\n",
       "      <td>54</td>\n",
       "      <td>0.74</td>\n",
       "    </tr>\n",
       "    <tr>\n",
       "      <th>Bad Card Number</th>\n",
       "      <td>25</td>\n",
       "      <td>59</td>\n",
       "      <td>0.70</td>\n",
       "    </tr>\n",
       "    <tr>\n",
       "      <th>Bad PIN</th>\n",
       "      <td>98</td>\n",
       "      <td>112</td>\n",
       "      <td>0.53</td>\n",
       "    </tr>\n",
       "    <tr>\n",
       "      <th>Insufficient Balance</th>\n",
       "      <td>380</td>\n",
       "      <td>169</td>\n",
       "      <td>0.31</td>\n",
       "    </tr>\n",
       "    <tr>\n",
       "      <th>Technical Glitch</th>\n",
       "      <td>88</td>\n",
       "      <td>31</td>\n",
       "      <td>0.26</td>\n",
       "    </tr>\n",
       "    <tr>\n",
       "      <th>Bad PIN,Technical Glitch</th>\n",
       "      <td>1</td>\n",
       "      <td>0</td>\n",
       "      <td>0.00</td>\n",
       "    </tr>\n",
       "    <tr>\n",
       "      <th>Bad Zipcode</th>\n",
       "      <td>6</td>\n",
       "      <td>0</td>\n",
       "      <td>0.00</td>\n",
       "    </tr>\n",
       "  </tbody>\n",
       "</table>\n",
       "</div>"
      ],
      "text/plain": [
       "target                                               0.00  \\\n",
       "errors                                                      \n",
       "Bad CVV,Insufficient Balance                            0   \n",
       "Bad CVV,Technical Glitch                                0   \n",
       "Bad Card Number,Insufficient Balance                    0   \n",
       "Bad PIN,Insufficient Balance                            0   \n",
       "Bad CVV                                                23   \n",
       "Bad Expiration                                         19   \n",
       "Bad Card Number                                        25   \n",
       "Bad PIN                                                98   \n",
       "Insufficient Balance                                  380   \n",
       "Technical Glitch                                       88   \n",
       "Bad PIN,Technical Glitch                                1   \n",
       "Bad Zipcode                                             6   \n",
       "\n",
       "target                                               1.00          fraud_ratio  \n",
       "errors                                                                          \n",
       "Bad CVV,Insufficient Balance                            2                 1.00  \n",
       "Bad CVV,Technical Glitch                                1                 1.00  \n",
       "Bad Card Number,Insufficient Balance                    1                 1.00  \n",
       "Bad PIN,Insufficient Balance                            1                 1.00  \n",
       "Bad CVV                                               139                 0.86  \n",
       "Bad Expiration                                         54                 0.74  \n",
       "Bad Card Number                                        59                 0.70  \n",
       "Bad PIN                                               112                 0.53  \n",
       "Insufficient Balance                                  169                 0.31  \n",
       "Technical Glitch                                       31                 0.26  \n",
       "Bad PIN,Technical Glitch                                0                 0.00  \n",
       "Bad Zipcode                                             0                 0.00  "
      ]
     },
     "execution_count": 33,
     "metadata": {},
     "output_type": "execute_result"
    }
   ],
   "source": [
    "error_analysis = balanced_df.groupby(['errors', 'target']).size().unstack(fill_value=0)\n",
    "error_analysis['fraud_ratio'] = error_analysis[1] / (error_analysis[1] + error_analysis[0])\n",
    "error_analysis.sort_values(by='fraud_ratio', ascending=False)"
   ]
  },
  {
   "cell_type": "code",
   "execution_count": null,
   "metadata": {},
   "outputs": [
    {
     "data": {
      "text/html": [
       "<div>\n",
       "<style scoped>\n",
       "    .dataframe tbody tr th:only-of-type {\n",
       "        vertical-align: middle;\n",
       "    }\n",
       "\n",
       "    .dataframe tbody tr th {\n",
       "        vertical-align: top;\n",
       "    }\n",
       "\n",
       "    .dataframe thead th {\n",
       "        text-align: right;\n",
       "    }\n",
       "</style>\n",
       "<table border=\"1\" class=\"dataframe\">\n",
       "  <thead>\n",
       "    <tr style=\"text-align: right;\">\n",
       "      <th></th>\n",
       "      <th>id</th>\n",
       "      <th>date</th>\n",
       "      <th>client_id</th>\n",
       "      <th>card_id</th>\n",
       "      <th>amount</th>\n",
       "      <th>use_chip</th>\n",
       "      <th>merchant_id</th>\n",
       "      <th>merchant_city</th>\n",
       "      <th>merchant_state</th>\n",
       "      <th>zip</th>\n",
       "      <th>mcc</th>\n",
       "      <th>errors</th>\n",
       "      <th>target</th>\n",
       "      <th>sin_day</th>\n",
       "      <th>event_time</th>\n",
       "      <th>use_Chip Transaction</th>\n",
       "      <th>use_Online Transaction</th>\n",
       "      <th>use_Swipe Transaction</th>\n",
       "      <th>is_expenses</th>\n",
       "      <th>Bad CVV</th>\n",
       "      <th>Bad Expiration</th>\n",
       "      <th>Bad Card Number</th>\n",
       "      <th>Bad PIN</th>\n",
       "      <th>Insufficient Balance</th>\n",
       "      <th>Technical Glitch</th>\n",
       "    </tr>\n",
       "  </thead>\n",
       "  <tbody>\n",
       "    <tr>\n",
       "      <th>0</th>\n",
       "      <td>22960688</td>\n",
       "      <td>2019-05-15 11:24:00</td>\n",
       "      <td>1549</td>\n",
       "      <td>4825</td>\n",
       "      <td>160.00</td>\n",
       "      <td>Chip Transaction</td>\n",
       "      <td>27092</td>\n",
       "      <td>Houston</td>\n",
       "      <td>TX</td>\n",
       "      <td>77268.00</td>\n",
       "      <td>4829</td>\n",
       "      <td></td>\n",
       "      <td>0.00</td>\n",
       "      <td>0.73</td>\n",
       "      <td>11.40</td>\n",
       "      <td>1</td>\n",
       "      <td>0</td>\n",
       "      <td>0</td>\n",
       "      <td>0</td>\n",
       "      <td>0</td>\n",
       "      <td>0</td>\n",
       "      <td>0</td>\n",
       "      <td>0</td>\n",
       "      <td>0</td>\n",
       "      <td>0</td>\n",
       "    </tr>\n",
       "    <tr>\n",
       "      <th>1</th>\n",
       "      <td>10960063</td>\n",
       "      <td>2012-04-07 10:05:00</td>\n",
       "      <td>1497</td>\n",
       "      <td>3655</td>\n",
       "      <td>62.85</td>\n",
       "      <td>Swipe Transaction</td>\n",
       "      <td>72650</td>\n",
       "      <td>Sacramento</td>\n",
       "      <td>CA</td>\n",
       "      <td>95820.00</td>\n",
       "      <td>5300</td>\n",
       "      <td></td>\n",
       "      <td>0.00</td>\n",
       "      <td>0.99</td>\n",
       "      <td>10.08</td>\n",
       "      <td>0</td>\n",
       "      <td>0</td>\n",
       "      <td>1</td>\n",
       "      <td>0</td>\n",
       "      <td>0</td>\n",
       "      <td>0</td>\n",
       "      <td>0</td>\n",
       "      <td>0</td>\n",
       "      <td>0</td>\n",
       "      <td>0</td>\n",
       "    </tr>\n",
       "    <tr>\n",
       "      <th>2</th>\n",
       "      <td>16800548</td>\n",
       "      <td>2015-10-13 14:22:00</td>\n",
       "      <td>257</td>\n",
       "      <td>3816</td>\n",
       "      <td>272.76</td>\n",
       "      <td>Online Transaction</td>\n",
       "      <td>19964</td>\n",
       "      <td>ONLINE</td>\n",
       "      <td>NaN</td>\n",
       "      <td>NaN</td>\n",
       "      <td>5311</td>\n",
       "      <td></td>\n",
       "      <td>1.00</td>\n",
       "      <td>-0.98</td>\n",
       "      <td>14.37</td>\n",
       "      <td>0</td>\n",
       "      <td>1</td>\n",
       "      <td>0</td>\n",
       "      <td>0</td>\n",
       "      <td>0</td>\n",
       "      <td>0</td>\n",
       "      <td>0</td>\n",
       "      <td>0</td>\n",
       "      <td>0</td>\n",
       "      <td>0</td>\n",
       "    </tr>\n",
       "    <tr>\n",
       "      <th>3</th>\n",
       "      <td>22447253</td>\n",
       "      <td>2019-01-26 13:33:00</td>\n",
       "      <td>27</td>\n",
       "      <td>1051</td>\n",
       "      <td>33.40</td>\n",
       "      <td>Chip Transaction</td>\n",
       "      <td>53492</td>\n",
       "      <td>Rome</td>\n",
       "      <td>Italy</td>\n",
       "      <td>NaN</td>\n",
       "      <td>5094</td>\n",
       "      <td></td>\n",
       "      <td>1.00</td>\n",
       "      <td>0.43</td>\n",
       "      <td>13.55</td>\n",
       "      <td>1</td>\n",
       "      <td>0</td>\n",
       "      <td>0</td>\n",
       "      <td>0</td>\n",
       "      <td>0</td>\n",
       "      <td>0</td>\n",
       "      <td>0</td>\n",
       "      <td>0</td>\n",
       "      <td>0</td>\n",
       "      <td>0</td>\n",
       "    </tr>\n",
       "    <tr>\n",
       "      <th>4</th>\n",
       "      <td>20684787</td>\n",
       "      <td>2018-01-17 22:45:00</td>\n",
       "      <td>261</td>\n",
       "      <td>30</td>\n",
       "      <td>326.06</td>\n",
       "      <td>Online Transaction</td>\n",
       "      <td>38958</td>\n",
       "      <td>ONLINE</td>\n",
       "      <td>NaN</td>\n",
       "      <td>NaN</td>\n",
       "      <td>7801</td>\n",
       "      <td></td>\n",
       "      <td>0.00</td>\n",
       "      <td>0.29</td>\n",
       "      <td>22.75</td>\n",
       "      <td>0</td>\n",
       "      <td>1</td>\n",
       "      <td>0</td>\n",
       "      <td>0</td>\n",
       "      <td>0</td>\n",
       "      <td>0</td>\n",
       "      <td>0</td>\n",
       "      <td>0</td>\n",
       "      <td>0</td>\n",
       "      <td>0</td>\n",
       "    </tr>\n",
       "  </tbody>\n",
       "</table>\n",
       "</div>"
      ],
      "text/plain": [
       "         id                date  client_id  card_id               amount  \\\n",
       "0  22960688 2019-05-15 11:24:00       1549     4825               160.00   \n",
       "1  10960063 2012-04-07 10:05:00       1497     3655                62.85   \n",
       "2  16800548 2015-10-13 14:22:00        257     3816               272.76   \n",
       "3  22447253 2019-01-26 13:33:00         27     1051                33.40   \n",
       "4  20684787 2018-01-17 22:45:00        261       30               326.06   \n",
       "\n",
       "             use_chip  merchant_id merchant_city merchant_state  \\\n",
       "0    Chip Transaction        27092       Houston             TX   \n",
       "1   Swipe Transaction        72650    Sacramento             CA   \n",
       "2  Online Transaction        19964        ONLINE            NaN   \n",
       "3    Chip Transaction        53492          Rome          Italy   \n",
       "4  Online Transaction        38958        ONLINE            NaN   \n",
       "\n",
       "                   zip   mcc errors               target              sin_day  \\\n",
       "0             77268.00  4829                        0.00                 0.73   \n",
       "1             95820.00  5300                        0.00                 0.99   \n",
       "2                  NaN  5311                        1.00                -0.98   \n",
       "3                  NaN  5094                        1.00                 0.43   \n",
       "4                  NaN  7801                        0.00                 0.29   \n",
       "\n",
       "            event_time  use_Chip Transaction  use_Online Transaction  \\\n",
       "0                11.40                     1                       0   \n",
       "1                10.08                     0                       0   \n",
       "2                14.37                     0                       1   \n",
       "3                13.55                     1                       0   \n",
       "4                22.75                     0                       1   \n",
       "\n",
       "   use_Swipe Transaction  is_expenses  Bad CVV  Bad Expiration  \\\n",
       "0                      0            0        0               0   \n",
       "1                      1            0        0               0   \n",
       "2                      0            0        0               0   \n",
       "3                      0            0        0               0   \n",
       "4                      0            0        0               0   \n",
       "\n",
       "   Bad Card Number  Bad PIN  Insufficient Balance  Technical Glitch  \n",
       "0                0        0                     0                 0  \n",
       "1                0        0                     0                 0  \n",
       "2                0        0                     0                 0  \n",
       "3                0        0                     0                 0  \n",
       "4                0        0                     0                 0  "
      ]
     },
     "execution_count": 34,
     "metadata": {},
     "output_type": "execute_result"
    }
   ],
   "source": [
    "# One-Hot Encoding Impactful Errors\n",
    "\n",
    "needed_errors = [\"Bad CVV\", 'Bad Expiration', 'Bad Card Number', 'Bad PIN', \"Insufficient Balance\", 'Technical Glitch', ]\n",
    "\n",
    "# Creating a new feature for each needed_error\n",
    "balanced_df['errors'] = balanced_df['errors'].fillna('') \n",
    "for error in needed_errors:\n",
    "    balanced_df[error] = balanced_df[\"errors\"].str.contains(error).astype(int)\n",
    "\n",
    "balanced_df.head(5)\n"
   ]
  },
  {
   "cell_type": "markdown",
   "metadata": {},
   "source": [
    "<p>Extracting some new features based on existing features</p>"
   ]
  },
  {
   "cell_type": "code",
   "execution_count": 35,
   "metadata": {},
   "outputs": [],
   "source": [
    "# This new features depend on the date and time of each transaction, So We extract it from the older records. \n",
    "# Sorting the dataset by dates to choose the older transactions for training dataset to pervent data leakage.\n",
    "\n",
    "balanced_df = balanced_df.sort_values(by=\"date\")\n",
    "\n",
    "train_size = int(0.6 * len(balanced_df))\n",
    "val_size = int(0.2 * len(balanced_df))\n",
    "\n",
    "# Creating the train set, validation set and the test set.\n",
    "train_df = balanced_df.iloc[:train_size]\n",
    "val_df = balanced_df.iloc[train_size:train_size + val_size]\n",
    "test_df = balanced_df.iloc[val_size + train_size:]"
   ]
  },
  {
   "cell_type": "code",
   "execution_count": 36,
   "metadata": {},
   "outputs": [],
   "source": [
    "train_df.to_csv(\"train_df.csv\")\n",
    "val_df.to_csv(\"val_df.csv\")\n",
    "test_df.to_csv(\"test_df.csv\")"
   ]
  },
  {
   "cell_type": "code",
   "execution_count": 37,
   "metadata": {},
   "outputs": [],
   "source": [
    "# Extracting some Statistical Metrics from the \"mcc\" column.\n",
    "# Counting every specefic mcc, the percentage of fraud labels in every distinct mcc etc.\n",
    "\n",
    "amount_stats = train_df.groupby('mcc')['amount'].agg(['mean', 'std']).reset_index()\n",
    "train_df = train_df.merge(amount_stats, on='mcc', how='left')\n",
    "train_df.rename(columns={'mean': 'mcc_amount_mean', 'std': 'mcc_amount_std'}, inplace=True)\n",
    "\n",
    "# Creating z-score for each transaction based un the amount of each one\n",
    "train_df['mcc_amount_zscore'] = (train_df['amount'] - train_df['mcc_amount_mean']) / train_df['mcc_amount_std']\n",
    "\n",
    "train_df['mcc_amount_mean'] = train_df['mcc_amount_mean'].round(6)\n",
    "train_df['mcc_amount_std'] = train_df['mcc_amount_std'].round(6)\n"
   ]
  },
  {
   "cell_type": "code",
   "execution_count": 38,
   "metadata": {},
   "outputs": [],
   "source": [
    "train_df['mcc_amount_zscore'] = train_df['mcc_amount_zscore'].round(6)"
   ]
  },
  {
   "cell_type": "code",
   "execution_count": 39,
   "metadata": {},
   "outputs": [],
   "source": [
    "# This feature represents how many times a unique mcc had transactions.\n",
    "mcc_counts = train_df[\"mcc\"].value_counts()\n",
    "train_df[\"mmc_freq\"] = train_df[\"mcc\"].map(mcc_counts)"
   ]
  },
  {
   "cell_type": "code",
   "execution_count": 40,
   "metadata": {},
   "outputs": [],
   "source": [
    "# Adding a feature wich represents fraud_rate_per_mcc\n",
    "fraud_rate_per_mcc = train_df.groupby(\"mcc\")[\"target\"].mean()\n",
    "train_df[\"mcc_fraud_rate\"] = train_df[\"mcc\"].map(fraud_rate_per_mcc)\n",
    "train_df[\"mcc_fraud_rate\"] = train_df[\"mcc_fraud_rate\"].round(6)"
   ]
  },
  {
   "cell_type": "code",
   "execution_count": 41,
   "metadata": {},
   "outputs": [
    {
     "data": {
      "text/plain": [
       "6703"
      ]
     },
     "execution_count": 41,
     "metadata": {},
     "output_type": "execute_result"
    }
   ],
   "source": [
    "# Dealing with zips\n",
    "len(balanced_df['zip'].unique())"
   ]
  },
  {
   "cell_type": "code",
   "execution_count": 42,
   "metadata": {},
   "outputs": [
    {
     "data": {
      "text/plain": [
       "'71.01%'"
      ]
     },
     "execution_count": 42,
     "metadata": {},
     "output_type": "execute_result"
    }
   ],
   "source": [
    "# Undrestanding the relation between nan zip codes and records with 1 target value\n",
    "f'{((len(balanced_df[(balanced_df[\"target\"] == 1) & (balanced_df[\"zip\"].isna())]) / balanced_df[\"zip\"].isna().sum()) * 100).round(2)}%'\n"
   ]
  },
  {
   "cell_type": "code",
   "execution_count": 43,
   "metadata": {},
   "outputs": [
    {
     "data": {
      "text/plain": [
       "'70.55%'"
      ]
     },
     "execution_count": 43,
     "metadata": {},
     "output_type": "execute_result"
    }
   ],
   "source": [
    "f'{((len(train_df[(train_df[\"target\"] == 1) & (train_df[\"zip\"].isna())]) / train_df[\"zip\"].isna().sum()) * 100).round(2)}%'"
   ]
  },
  {
   "cell_type": "markdown",
   "metadata": {},
   "source": [
    "<p>That is a very high percentage of fraud labels in records wich wich have missing zip values!</p>"
   ]
  },
  {
   "cell_type": "code",
   "execution_count": 44,
   "metadata": {},
   "outputs": [
    {
     "data": {
      "text/plain": [
       "'28.99%'"
      ]
     },
     "execution_count": 44,
     "metadata": {},
     "output_type": "execute_result"
    }
   ],
   "source": [
    "f'{((len(balanced_df[(balanced_df[\"target\"] == 0) & (balanced_df[\"zip\"].isna())]) / balanced_df[\"zip\"].isna().sum()) * 100).round(2)}%'"
   ]
  },
  {
   "cell_type": "code",
   "execution_count": 45,
   "metadata": {},
   "outputs": [
    {
     "data": {
      "text/html": [
       "<div>\n",
       "<style scoped>\n",
       "    .dataframe tbody tr th:only-of-type {\n",
       "        vertical-align: middle;\n",
       "    }\n",
       "\n",
       "    .dataframe tbody tr th {\n",
       "        vertical-align: top;\n",
       "    }\n",
       "\n",
       "    .dataframe thead th {\n",
       "        text-align: right;\n",
       "    }\n",
       "</style>\n",
       "<table border=\"1\" class=\"dataframe\">\n",
       "  <thead>\n",
       "    <tr style=\"text-align: right;\">\n",
       "      <th></th>\n",
       "      <th>zip</th>\n",
       "      <th>total_transactions</th>\n",
       "      <th>num_of_fraud</th>\n",
       "      <th>fraud_rate</th>\n",
       "    </tr>\n",
       "  </thead>\n",
       "  <tbody>\n",
       "    <tr>\n",
       "      <th>2491</th>\n",
       "      <td>44681.00</td>\n",
       "      <td>23</td>\n",
       "      <td>23.00</td>\n",
       "      <td>100.00</td>\n",
       "    </tr>\n",
       "    <tr>\n",
       "      <th>2490</th>\n",
       "      <td>44680.00</td>\n",
       "      <td>214</td>\n",
       "      <td>213.00</td>\n",
       "      <td>99.53</td>\n",
       "    </tr>\n",
       "    <tr>\n",
       "      <th>2493</th>\n",
       "      <td>44691.00</td>\n",
       "      <td>20</td>\n",
       "      <td>5.00</td>\n",
       "      <td>25.00</td>\n",
       "    </tr>\n",
       "    <tr>\n",
       "      <th>4461</th>\n",
       "      <td>86004.00</td>\n",
       "      <td>11</td>\n",
       "      <td>2.00</td>\n",
       "      <td>18.18</td>\n",
       "    </tr>\n",
       "    <tr>\n",
       "      <th>2054</th>\n",
       "      <td>36613.00</td>\n",
       "      <td>15</td>\n",
       "      <td>2.00</td>\n",
       "      <td>13.33</td>\n",
       "    </tr>\n",
       "  </tbody>\n",
       "</table>\n",
       "</div>"
      ],
      "text/plain": [
       "                      zip  total_transactions         num_of_fraud  \\\n",
       "2491             44681.00                  23                23.00   \n",
       "2490             44680.00                 214               213.00   \n",
       "2493             44691.00                  20                 5.00   \n",
       "4461             86004.00                  11                 2.00   \n",
       "2054             36613.00                  15                 2.00   \n",
       "\n",
       "               fraud_rate  \n",
       "2491               100.00  \n",
       "2490                99.53  \n",
       "2493                25.00  \n",
       "4461                18.18  \n",
       "2054                13.33  "
      ]
     },
     "execution_count": 45,
     "metadata": {},
     "output_type": "execute_result"
    }
   ],
   "source": [
    "zip_states = train_df.groupby(\"zip\")[\"target\"].agg([\"count\", \"sum\"]).reset_index()\n",
    "zip_states.columns = [\"zip\", \"total_transactions\", \"num_of_fraud\"]\n",
    "zip_states[\"fraud_rate\"] = (zip_states[\"num_of_fraud\"] / zip_states[\"total_transactions\"])  * 100\n",
    "zip_states.sort_values(\"fraud_rate\" ,ascending=False, inplace=True)\n",
    "zip_states[zip_states[\"total_transactions\"] > 10].head(5)"
   ]
  },
  {
   "cell_type": "code",
   "execution_count": null,
   "metadata": {},
   "outputs": [],
   "source": []
  },
  {
   "cell_type": "code",
   "execution_count": 46,
   "metadata": {},
   "outputs": [
    {
     "data": {
      "text/plain": [
       "(51, 4)"
      ]
     },
     "execution_count": 46,
     "metadata": {},
     "output_type": "execute_result"
    }
   ],
   "source": [
    "zip_states[(zip_states[\"total_transactions\"] > 10) & (zip_states[\"num_of_fraud\"] != 0)].shape"
   ]
  },
  {
   "cell_type": "code",
   "execution_count": 47,
   "metadata": {},
   "outputs": [
    {
     "data": {
      "text/plain": [
       "(558, 4)"
      ]
     },
     "execution_count": 47,
     "metadata": {},
     "output_type": "execute_result"
    }
   ],
   "source": [
    "zip_states[zip_states[\"num_of_fraud\"] != 0].shape"
   ]
  },
  {
   "cell_type": "code",
   "execution_count": 48,
   "metadata": {},
   "outputs": [
    {
     "data": {
      "text/plain": [
       "(472, 4)"
      ]
     },
     "execution_count": 48,
     "metadata": {},
     "output_type": "execute_result"
    }
   ],
   "source": [
    "zip_states[zip_states[\"fraud_rate\"] > 20].shape"
   ]
  },
  {
   "cell_type": "markdown",
   "metadata": {},
   "source": [
    "Adding 3 new binary features to the dataset that shows (Is this record has a frequent zip code with high fraud rate a the same zip?),\n",
    " (Is this record has a non-frequent zip code with high fraud rate?) and (Is this record has missing value for zip code?)\n",
    " But first I need to choose a proper value for deciding that is a specific zip code is frequent? and how much the fraud rate value \n",
    " must be, to classify a ZIP code as having a high fraud rate?"
   ]
  },
  {
   "cell_type": "code",
   "execution_count": null,
   "metadata": {},
   "outputs": [
    {
     "data": {
      "image/png": "[encoded data removed]",
      "text/plain": [
       "<Figure size 1200x600 with 2 Axes>"
      ]
     },
     "metadata": {},
     "output_type": "display_data"
    }
   ],
   "source": [
    "fig, axs = plt.subplots(1, 2, figsize=(12, 6))\n",
    "\n",
    "axs[0].scatter(zip_states[\"total_transactions\"], zip_states[\"fraud_rate\"], color=\"blue\", alpha=0.6)\n",
    "axs[0].set_title('Scatter: Transaction Count vs Fraud Rate')\n",
    "axs[0].set_xlabel('Transaction Count')\n",
    "axs[0].set_ylabel('Fraud Rate')\n",
    "axs[0].set_xlim(0, 70)\n",
    "\n",
    "axs[1].hist(zip_states[\"total_transactions\"], bins=20, color='green', edgecolor='black')\n",
    "axs[1].set_title('Histogram: Transaction Count Distribution')\n",
    "axs[1].set_xlabel('Transaction Count')\n",
    "axs[1].set_ylabel('Number of ZIPs')\n",
    "\n",
    "\n",
    "plt.show()"
   ]
  },
  {
   "cell_type": "code",
   "execution_count": null,
   "metadata": {},
   "outputs": [
    {
     "data": {
      "image/png": "[encoded data removed]",
      "text/plain": [
       "<Figure size 640x480 with 1 Axes>"
      ]
     },
     "metadata": {},
     "output_type": "display_data"
    }
   ],
   "source": [
    "plt.scatter(zip_states[zip_states[\"total_transactions\"] > 10][\"total_transactions\"], zip_states[zip_states[\"total_transactions\"] > 10][\"fraud_rate\"], color=\"blue\", alpha=0.6)\n",
    "plt.title('Scatter: Transaction Count vs Fraud Rate')\n",
    "plt.xlabel('Transaction Count')\n",
    "plt.ylabel('Fraud Rate')\n",
    "plt.xlim(0, 70)\n",
    "plt.ylim(0, 10)\n",
    "plt.show()"
   ]
  },
  {
   "cell_type": "code",
   "execution_count": null,
   "metadata": {},
   "outputs": [
    {
     "data": {
      "image/png": "[encoded data removed]",
      "text/plain": [
       "<Figure size 800x400 with 1 Axes>"
      ]
     },
     "metadata": {},
     "output_type": "display_data"
    }
   ],
   "source": [
    "\n",
    "plt.figure(figsize=(8, 4))\n",
    "counts_sorted = np.sort(zip_states['total_transactions'])\n",
    "cdf = np.arange(len(counts_sorted)) / len(counts_sorted)\n",
    "plt.plot(counts_sorted, cdf, marker='o', linestyle='-', color='blue')\n",
    "plt.xlabel('Transaction Count')\n",
    "plt.ylabel('Cumulative Percentage of ZIPs')\n",
    "plt.xlim(0,50)\n",
    "plt.title('CDF: Cumulative Distribution of Transaction Counts')\n",
    "plt.grid(True)\n",
    "plt.show()\n"
   ]
  },
  {
   "cell_type": "code",
   "execution_count": 52,
   "metadata": {},
   "outputs": [
    {
     "name": "stdout",
     "output_type": "stream",
     "text": [
      "679 : 10.00\n",
      "163 : 20.00\n",
      "43 : 30.00\n"
     ]
    }
   ],
   "source": [
    "transaction_thresholds = [10, 20, 30]\n",
    "for thresh in transaction_thresholds:\n",
    "    num_of_left = zip_states[zip_states[\"total_transactions\"] >= thresh].shape[0]\n",
    "    print(f\"{num_of_left} : {thresh:.2f}\")"
   ]
  },
  {
   "cell_type": "markdown",
   "metadata": {},
   "source": [
    "The threshold for classifying a zip code as a high frequent is 10+ total transactions."
   ]
  },
  {
   "cell_type": "code",
   "execution_count": 53,
   "metadata": {},
   "outputs": [
    {
     "name": "stdout",
     "output_type": "stream",
     "text": [
      "90th percentile fraud rate threshold: 6.67\n",
      "95th percentile fraud rate threshold: 100.00\n",
      "97th percentile fraud rate threshold: 100.00\n",
      "99th percentile fraud rate threshold: 100.00\n"
     ]
    }
   ],
   "source": [
    "# Finding the pest fraud rate for classifying zip codes as high fraud rate zip code\n",
    "percentiles = [90, 95, 97, 99]\n",
    "for p in percentiles:\n",
    "    threshold = np.percentile(zip_states[\"fraud_rate\"], p)\n",
    "    print(f\"{p}th percentile fraud rate threshold: {threshold:.2f}\")"
   ]
  },
  {
   "cell_type": "markdown",
   "metadata": {},
   "source": [
    "So 6.67 could be a good threshold for fraud rate."
   ]
  },
  {
   "cell_type": "code",
   "execution_count": 54,
   "metadata": {},
   "outputs": [
    {
     "data": {
      "text/plain": [
       "354"
      ]
     },
     "execution_count": 54,
     "metadata": {},
     "output_type": "execute_result"
    }
   ],
   "source": [
    "zip_states[(zip_states[\"total_transactions\"] < 10) & (zip_states[\"total_transactions\"] > 3) & (zip_states[\"fraud_rate\"] > 0)][\"total_transactions\"].sum()"
   ]
  },
  {
   "cell_type": "code",
   "execution_count": null,
   "metadata": {},
   "outputs": [],
   "source": []
  },
  {
   "cell_type": "code",
   "execution_count": 55,
   "metadata": {},
   "outputs": [],
   "source": [
    "train_df[\"nan_zip\"] = train_df[\"zip\"].isna().astype(int)"
   ]
  },
  {
   "cell_type": "code",
   "execution_count": null,
   "metadata": {},
   "outputs": [
    {
     "data": {
      "text/plain": [
       "568"
      ]
     },
     "execution_count": 56,
     "metadata": {},
     "output_type": "execute_result"
    }
   ],
   "source": [
    "# The first group of zip codes are the ones wich has over than 6.67% fraud rate and 10+ number of transactions\n",
    "# The second group will be the ones wich has less than 10 and over than 3 transactions and over than 6.67 fraud rate\n",
    "# The third group will be the ones wich has missing zip code values\n",
    "\n",
    "# Afrer running the model this two new features should be deleted and than run the model another time to compare this to models\n",
    "\n",
    "zip_states[\"high_freq_high_fraud\"] = np.where((zip_states[\"total_transactions\"] > 10) & (zip_states[\"fraud_rate\"]>=6.67), 1, 0)\n",
    "zip_states[zip_states[\"high_freq_high_fraud\"] == 1][\"total_transactions\"].sum()"
   ]
  },
  {
   "cell_type": "code",
   "execution_count": 57,
   "metadata": {},
   "outputs": [
    {
     "name": "stdout",
     "output_type": "stream",
     "text": [
      "Fraud Ratio in **High** Frequency Fraud Zips: 47.54%\n"
     ]
    }
   ],
   "source": [
    "fraud_in_high_freq = train_df[train_df[\"zip\"].isin(zip_states[zip_states[\"high_freq_high_fraud\"] == 1][\"zip\"])]\n",
    "fraud_ratio = fraud_in_high_freq[\"target\"].mean()\n",
    "print(f\"Fraud Ratio in **High** Frequency Fraud Zips: {fraud_ratio:.2%}\")\n",
    "\n",
    "# I delete all of the varibles in this cell for clean code porpuses :)\n",
    "del fraud_in_high_freq, fraud_ratio"
   ]
  },
  {
   "cell_type": "code",
   "execution_count": 58,
   "metadata": {},
   "outputs": [
    {
     "name": "stdout",
     "output_type": "stream",
     "text": [
      "3.45%\n"
     ]
    }
   ],
   "source": [
    "total_frauds = train_df['target'].sum()\n",
    "\n",
    "num_frauds_in_high_freq = train_df[train_df['zip'].isin(zip_states[zip_states[\"high_freq_high_fraud\"] == 1][\"zip\"])][\"target\"].sum()\n",
    "\n",
    "coverage = (num_frauds_in_high_freq / total_frauds) * 100\n",
    "\n",
    "print(f\"{coverage:.2f}%\")\n",
    "\n",
    "# I delete all of the varibles in this cell for clean code porpuses :)\n",
    "del total_frauds, num_frauds_in_high_freq, coverage"
   ]
  },
  {
   "cell_type": "code",
   "execution_count": 59,
   "metadata": {},
   "outputs": [
    {
     "data": {
      "text/plain": [
       "979"
      ]
     },
     "execution_count": 59,
     "metadata": {},
     "output_type": "execute_result"
    }
   ],
   "source": [
    "zip_states[\"low_freq_high_fraud\"] = np.where((zip_states[\"total_transactions\"] <= 10) & (zip_states[\"fraud_rate\"]>=6.67), 1, 0)\n",
    "zip_states[zip_states[\"low_freq_high_fraud\"] == 1][\"total_transactions\"].sum()"
   ]
  },
  {
   "cell_type": "code",
   "execution_count": 60,
   "metadata": {},
   "outputs": [
    {
     "name": "stdout",
     "output_type": "stream",
     "text": [
      "Fraud Ratio in **Low** Frequency Fraud Zips: 59.86%\n"
     ]
    }
   ],
   "source": [
    "fraud_in_low_freq = train_df[train_df[\"zip\"].isin(zip_states[zip_states[\"low_freq_high_fraud\"] == 1][\"zip\"])]\n",
    "fraud_ratio = fraud_in_low_freq[\"target\"].mean()\n",
    "print(f\"Fraud Ratio in **Low** Frequency Fraud Zips: {fraud_ratio:.2%}\")\n",
    "\n",
    "# I delete all of the varibles in this cell for clean code porpuses :)\n",
    "del fraud_in_low_freq, fraud_ratio"
   ]
  },
  {
   "cell_type": "code",
   "execution_count": null,
   "metadata": {},
   "outputs": [
    {
     "name": "stdout",
     "output_type": "stream",
     "text": [
      "7.48%\n"
     ]
    }
   ],
   "source": [
    "total_frauds = train_df['target'].sum()\n",
    "\n",
    "num_frauds_in_low_freq = train_df[train_df['zip'].isin(zip_states[zip_states[\"low_freq_high_fraud\"] == 1][\"zip\"])][\"target\"].sum()\n",
    "\n",
    "coverage = (num_frauds_in_low_freq / total_frauds) * 100\n",
    "\n",
    "print(f\"{coverage:.2f}%\")\n",
    "# I delete all of the varibles in this cell for clean code porpuses :)\n",
    "del total_frauds, num_frauds_in_low_freq, coverage"
   ]
  },
  {
   "cell_type": "markdown",
   "metadata": {},
   "source": [
    "Adding this two features to train_df as a binary feature"
   ]
  },
  {
   "cell_type": "code",
   "execution_count": 62,
   "metadata": {},
   "outputs": [],
   "source": [
    "train_df[\"zip_high_freq_high_fraud\"] = train_df[\"zip\"].map(zip_states.set_index(\"zip\")[\"high_freq_high_fraud\"])\n",
    "# Becauese of NaN zip codes on train_df the \"map\" method above make the this new column nan.so I just use fillna(0)\n",
    "train_df[\"zip_high_freq_high_fraud\"] = train_df[\"zip_high_freq_high_fraud\"].fillna(0)"
   ]
  },
  {
   "cell_type": "code",
   "execution_count": 63,
   "metadata": {},
   "outputs": [],
   "source": [
    "train_df[\"zip_low_freq_high_fraud\"] = train_df[\"zip\"].map(zip_states.set_index(\"zip\")[\"low_freq_high_fraud\"])\n",
    "# Becauese of NaN zip codes on train_df the \"map\" method above make the this new column nan.so I just use fillna(0)\n",
    "train_df[\"zip_low_freq_high_fraud\"] = train_df[\"zip_low_freq_high_fraud\"].fillna(0)"
   ]
  },
  {
   "cell_type": "code",
   "execution_count": 64,
   "metadata": {},
   "outputs": [],
   "source": [
    "# Saving tain_df as csv version 2\n",
    "train_df.to_csv(\"train_df_save_2.csv\")"
   ]
  },
  {
   "cell_type": "markdown",
   "metadata": {},
   "source": [
    "Analysing merchant_state column"
   ]
  },
  {
   "cell_type": "code",
   "execution_count": 65,
   "metadata": {},
   "outputs": [
    {
     "data": {
      "text/plain": [
       "70.82"
      ]
     },
     "execution_count": 65,
     "metadata": {},
     "output_type": "execute_result"
    }
   ],
   "source": [
    "# The ratio of records with fraud targets and NaN merchant_state over all records with NaN merchant_state\n",
    "round(((len(train_df[(train_df[\"target\"] == 1) & (train_df[\"merchant_state\"].isna())]) / (train_df[\"merchant_state\"].isna().sum())) * 100), 2)\n",
    "\n"
   ]
  },
  {
   "cell_type": "code",
   "execution_count": 66,
   "metadata": {},
   "outputs": [
    {
     "data": {
      "text/plain": [
       "29.18"
      ]
     },
     "execution_count": 66,
     "metadata": {},
     "output_type": "execute_result"
    }
   ],
   "source": [
    "round((len(train_df[(train_df['target'] == 0) & (train_df[\"merchant_state\"].isna())]) / train_df[\"merchant_state\"].isna().sum() * 100), 2)"
   ]
  },
  {
   "cell_type": "markdown",
   "metadata": {},
   "source": [
    "Becauese of high ratio of fraud records in records with NaN merchant_state, I make a new binary feature wich shows is merchant_state is missing or not."
   ]
  },
  {
   "cell_type": "code",
   "execution_count": 67,
   "metadata": {},
   "outputs": [],
   "source": [
    "train_df['nan_merchant_state'] = np.where((train_df['merchant_state'].isna()),1, 0)"
   ]
  },
  {
   "cell_type": "markdown",
   "metadata": {},
   "source": [
    "Like what I did for zips, I'm going to analyse fraud rate for every unique state"
   ]
  },
  {
   "cell_type": "code",
   "execution_count": 68,
   "metadata": {},
   "outputs": [],
   "source": [
    "merchant_states = train_df.groupby('merchant_state')['target'].agg([\"count\", \"sum\"]).reset_index()\n",
    "merchant_states.columns = [\"merchant_state\", \"total_transactions\", \"num_of_fraud\"]\n",
    "merchant_states[\"fraud_rate\"] = ((merchant_states[\"num_of_fraud\"] / merchant_states[\"total_transactions\"])  * 100).round(3)\n",
    "merchant_states.sort_values(\"fraud_rate\" ,ascending=False, inplace=True)"
   ]
  },
  {
   "cell_type": "code",
   "execution_count": 69,
   "metadata": {},
   "outputs": [
    {
     "name": "stdout",
     "output_type": "stream",
     "text": [
      "<class 'pandas.core.frame.DataFrame'>\n",
      "Index: 47 entries, 27 to 40\n",
      "Data columns (total 4 columns):\n",
      " #   Column              Non-Null Count  Dtype  \n",
      "---  ------              --------------  -----  \n",
      " 0   merchant_state      47 non-null     object \n",
      " 1   total_transactions  47 non-null     int64  \n",
      " 2   num_of_fraud        47 non-null     float64\n",
      " 3   fraud_rate          47 non-null     float64\n",
      "dtypes: float64(2), int64(1), object(1)\n",
      "memory usage: 1.8+ KB\n"
     ]
    }
   ],
   "source": [
    "merchant_states[merchant_states['fraud_rate'] > 0].info()"
   ]
  },
  {
   "cell_type": "code",
   "execution_count": 70,
   "metadata": {},
   "outputs": [
    {
     "name": "stdout",
     "output_type": "stream",
     "text": [
      "90.33 %\n"
     ]
    }
   ],
   "source": [
    "all_transactions_with_state_value = merchant_states['total_transactions'].sum()\n",
    "total_transactions_with_low_rate_fraud = merchant_states[(merchant_states[\"fraud_rate\"] > 0) & (merchant_states[\"fraud_rate\"] < 10)]['total_transactions'].sum()\n",
    "print(round(total_transactions_with_low_rate_fraud / all_transactions_with_state_value * 100, 2),\"%\")"
   ]
  },
  {
   "cell_type": "code",
   "execution_count": 71,
   "metadata": {},
   "outputs": [
    {
     "name": "stdout",
     "output_type": "stream",
     "text": [
      "7.54 %\n"
     ]
    }
   ],
   "source": [
    "all_transactions_with_state_value = merchant_states['total_transactions'].sum()\n",
    "total_transactions_with_high_rate_fraud = merchant_states[merchant_states[\"fraud_rate\"] > 10]['total_transactions'].sum()\n",
    "print(round(total_transactions_with_high_rate_fraud / all_transactions_with_state_value * 100, 2),\"%\")"
   ]
  },
  {
   "cell_type": "code",
   "execution_count": 72,
   "metadata": {},
   "outputs": [
    {
     "name": "stdout",
     "output_type": "stream",
     "text": [
      "2.13 %\n"
     ]
    }
   ],
   "source": [
    "all_transactions_with_state_value = merchant_states['total_transactions'].sum()\n",
    "total_transactions_with_zero_rate_fraud = merchant_states[merchant_states[\"fraud_rate\"] == 0]['total_transactions'].sum()\n",
    "print(round(total_transactions_with_zero_rate_fraud / all_transactions_with_state_value * 100, 2),\"%\")"
   ]
  },
  {
   "cell_type": "markdown",
   "metadata": {},
   "source": [
    "Becauese of low percentage for 0 fraud states to the respect of all transactions ,I don't assign a binary feature to represent that for each record"
   ]
  },
  {
   "cell_type": "code",
   "execution_count": 73,
   "metadata": {},
   "outputs": [],
   "source": [
    "# If the state of a record has over than 10% fraud transactions, The \"high_fraud_rate_state\" will be 1, otherwise 0\n",
    "# If the state of a record has less than 10% and over than 0% fraud transactions, The \"Low_fraud_rate_state\" will be 1, otherwise 0\n",
    "\n",
    "merchant_states[\"high_fraud_state\"] = np.where((merchant_states[\"fraud_rate\"] >= 10),1 ,0)\n",
    "merchant_states[\"low_fraud_states\"] = np.where(((merchant_states[\"fraud_rate\"] < 10) & (merchant_states['fraud_rate'] > 0)),1,0)"
   ]
  },
  {
   "cell_type": "code",
   "execution_count": 74,
   "metadata": {},
   "outputs": [],
   "source": [
    "# Maping high/low fraud states on train_df\n",
    "train_df[\"high_fraud_state\"] = train_df[\"merchant_state\"].map(merchant_states.set_index(\"merchant_state\")['high_fraud_state'])\n",
    "train_df[\"high_fraud_state\"] = train_df[\"high_fraud_state\"].fillna(0)\n",
    "\n",
    "train_df[\"low_fraud_states\"] = train_df[\"merchant_state\"].map(merchant_states.set_index(\"merchant_state\")['low_fraud_states'])\n",
    "train_df[\"low_fraud_states\"] = train_df[\"low_fraud_states\"].fillna(0)"
   ]
  },
  {
   "cell_type": "markdown",
   "metadata": {},
   "source": [
    "<h3>Analysing merchant_city</h3>"
   ]
  },
  {
   "cell_type": "markdown",
   "metadata": {},
   "source": [
    "I just recognized that all of records with \"ONLINE\" merchant_city have missing values for zip. so It impacts that feature wich represents the presence of zip code, So I need to check the relation between fraud records and ONLINE records."
   ]
  },
  {
   "cell_type": "code",
   "execution_count": 75,
   "metadata": {},
   "outputs": [
    {
     "data": {
      "text/plain": [
       "9446"
      ]
     },
     "execution_count": 75,
     "metadata": {},
     "output_type": "execute_result"
    }
   ],
   "source": [
    "len(train_df[(train_df['merchant_city'] == \"ONLINE\") & (train_df[\"zip\"].isna())])\n"
   ]
  },
  {
   "cell_type": "code",
   "execution_count": null,
   "metadata": {},
   "outputs": [
    {
     "name": "stdout",
     "output_type": "stream",
     "text": [
      "70.82362904933305 %\n"
     ]
    }
   ],
   "source": [
    "all_onlines = len(train_df[(train_df['merchant_city'] == \"ONLINE\")])\n",
    "all_online_and_frauds = len(train_df[(train_df['merchant_city'] == \"ONLINE\") & (train_df[\"target\"] == 1)])\n",
    "print(all_online_and_frauds / all_onlines * 100, \"%\")"
   ]
  },
  {
   "cell_type": "markdown",
   "metadata": {},
   "source": [
    "So there are more than 70% of online transactions wich are frauds, approximatly like the ratio of fraud reords with nan zip code over all nan zip records. Thus I don't create a new binary feature to represent is it online or not."
   ]
  },
  {
   "cell_type": "code",
   "execution_count": 77,
   "metadata": {},
   "outputs": [],
   "source": [
    "merchant_cities = train_df.groupby('merchant_city')['target'].agg([\"count\", \"sum\"]).reset_index()\n",
    "merchant_cities.columns = [\"merchant_city\", \"total_transactions\", \"num_of_fraud\"]\n",
    "merchant_cities[\"fraud_rate\"] = ((merchant_cities[\"num_of_fraud\"] / merchant_cities[\"total_transactions\"])  * 100).round(3)\n",
    "merchant_cities.sort_values(\"fraud_rate\" ,ascending=False, inplace=True)"
   ]
  },
  {
   "cell_type": "code",
   "execution_count": 78,
   "metadata": {},
   "outputs": [
    {
     "data": {
      "text/html": [
       "<div>\n",
       "<style scoped>\n",
       "    .dataframe tbody tr th:only-of-type {\n",
       "        vertical-align: middle;\n",
       "    }\n",
       "\n",
       "    .dataframe tbody tr th {\n",
       "        vertical-align: top;\n",
       "    }\n",
       "\n",
       "    .dataframe thead th {\n",
       "        text-align: right;\n",
       "    }\n",
       "</style>\n",
       "<table border=\"1\" class=\"dataframe\">\n",
       "  <thead>\n",
       "    <tr style=\"text-align: right;\">\n",
       "      <th></th>\n",
       "      <th>merchant_city</th>\n",
       "      <th>total_transactions</th>\n",
       "      <th>num_of_fraud</th>\n",
       "      <th>fraud_rate</th>\n",
       "    </tr>\n",
       "  </thead>\n",
       "  <tbody>\n",
       "    <tr>\n",
       "      <th>1706</th>\n",
       "      <td>Marshalltown</td>\n",
       "      <td>1</td>\n",
       "      <td>1.00</td>\n",
       "      <td>100.00</td>\n",
       "    </tr>\n",
       "    <tr>\n",
       "      <th>396</th>\n",
       "      <td>Cantonment</td>\n",
       "      <td>1</td>\n",
       "      <td>1.00</td>\n",
       "      <td>100.00</td>\n",
       "    </tr>\n",
       "    <tr>\n",
       "      <th>2734</th>\n",
       "      <td>Sugar Grove</td>\n",
       "      <td>1</td>\n",
       "      <td>1.00</td>\n",
       "      <td>100.00</td>\n",
       "    </tr>\n",
       "    <tr>\n",
       "      <th>2736</th>\n",
       "      <td>Sugarcreek</td>\n",
       "      <td>23</td>\n",
       "      <td>23.00</td>\n",
       "      <td>100.00</td>\n",
       "    </tr>\n",
       "    <tr>\n",
       "      <th>2737</th>\n",
       "      <td>Suitland</td>\n",
       "      <td>1</td>\n",
       "      <td>1.00</td>\n",
       "      <td>100.00</td>\n",
       "    </tr>\n",
       "    <tr>\n",
       "      <th>...</th>\n",
       "      <td>...</td>\n",
       "      <td>...</td>\n",
       "      <td>...</td>\n",
       "      <td>...</td>\n",
       "    </tr>\n",
       "    <tr>\n",
       "      <th>1139</th>\n",
       "      <td>Gunter</td>\n",
       "      <td>3</td>\n",
       "      <td>0.00</td>\n",
       "      <td>0.00</td>\n",
       "    </tr>\n",
       "    <tr>\n",
       "      <th>1140</th>\n",
       "      <td>Gustine</td>\n",
       "      <td>2</td>\n",
       "      <td>0.00</td>\n",
       "      <td>0.00</td>\n",
       "    </tr>\n",
       "    <tr>\n",
       "      <th>1141</th>\n",
       "      <td>Guston</td>\n",
       "      <td>1</td>\n",
       "      <td>0.00</td>\n",
       "      <td>0.00</td>\n",
       "    </tr>\n",
       "    <tr>\n",
       "      <th>1142</th>\n",
       "      <td>Guymon</td>\n",
       "      <td>3</td>\n",
       "      <td>0.00</td>\n",
       "      <td>0.00</td>\n",
       "    </tr>\n",
       "    <tr>\n",
       "      <th>3148</th>\n",
       "      <td>Zwolle</td>\n",
       "      <td>2</td>\n",
       "      <td>0.00</td>\n",
       "      <td>0.00</td>\n",
       "    </tr>\n",
       "  </tbody>\n",
       "</table>\n",
       "<p>3149 rows × 4 columns</p>\n",
       "</div>"
      ],
      "text/plain": [
       "     merchant_city  total_transactions         num_of_fraud  \\\n",
       "1706  Marshalltown                   1                 1.00   \n",
       "396     Cantonment                   1                 1.00   \n",
       "2734   Sugar Grove                   1                 1.00   \n",
       "2736    Sugarcreek                  23                23.00   \n",
       "2737      Suitland                   1                 1.00   \n",
       "...            ...                 ...                  ...   \n",
       "1139        Gunter                   3                 0.00   \n",
       "1140       Gustine                   2                 0.00   \n",
       "1141        Guston                   1                 0.00   \n",
       "1142        Guymon                   3                 0.00   \n",
       "3148        Zwolle                   2                 0.00   \n",
       "\n",
       "               fraud_rate  \n",
       "1706               100.00  \n",
       "396                100.00  \n",
       "2734               100.00  \n",
       "2736               100.00  \n",
       "2737               100.00  \n",
       "...                   ...  \n",
       "1139                 0.00  \n",
       "1140                 0.00  \n",
       "1141                 0.00  \n",
       "1142                 0.00  \n",
       "3148                 0.00  \n",
       "\n",
       "[3149 rows x 4 columns]"
      ]
     },
     "execution_count": 78,
     "metadata": {},
     "output_type": "execute_result"
    }
   ],
   "source": [
    "merchant_cities"
   ]
  },
  {
   "cell_type": "code",
   "execution_count": null,
   "metadata": {},
   "outputs": [
    {
     "data": {
      "image/png": "[encoded data removed]",
      "text/plain": [
       "<Figure size 640x480 with 1 Axes>"
      ]
     },
     "metadata": {},
     "output_type": "display_data"
    }
   ],
   "source": [
    "\n",
    "y = np.zeros_like(merchant_cities[merchant_cities[\"fraud_rate\"] >= 10][\"total_transactions\"])\n",
    "plt.scatter(merchant_cities[merchant_cities[\"fraud_rate\"] >= 10][\"total_transactions\"], y, marker='o', color='b', alpha=0.6)\n",
    "plt.yticks([])\n",
    "plt.xlabel(\"Total transaction\")\n",
    "plt.title(\"1D Scatter Plot\")\n",
    "plt.xlim(0, 30)\n",
    "\n",
    "plt.show()"
   ]
  },
  {
   "cell_type": "code",
   "execution_count": 80,
   "metadata": {},
   "outputs": [
    {
     "name": "stdout",
     "output_type": "stream",
     "text": [
      "Mean of total transactions: 3.7750677506775068\n"
     ]
    }
   ],
   "source": [
    "mean_value = np.mean(merchant_cities[(merchant_cities[\"fraud_rate\"] >= 10) & (merchant_cities[\"total_transactions\"] < 250)][\"total_transactions\"])\n",
    "print(\"Mean of total transactions:\", mean_value)"
   ]
  },
  {
   "cell_type": "code",
   "execution_count": null,
   "metadata": {},
   "outputs": [
    {
     "data": {
      "text/html": [
       "<div>\n",
       "<style scoped>\n",
       "    .dataframe tbody tr th:only-of-type {\n",
       "        vertical-align: middle;\n",
       "    }\n",
       "\n",
       "    .dataframe tbody tr th {\n",
       "        vertical-align: top;\n",
       "    }\n",
       "\n",
       "    .dataframe thead th {\n",
       "        text-align: right;\n",
       "    }\n",
       "</style>\n",
       "<table border=\"1\" class=\"dataframe\">\n",
       "  <thead>\n",
       "    <tr style=\"text-align: right;\">\n",
       "      <th></th>\n",
       "      <th>id</th>\n",
       "      <th>date</th>\n",
       "      <th>client_id</th>\n",
       "      <th>card_id</th>\n",
       "      <th>amount</th>\n",
       "      <th>use_chip</th>\n",
       "      <th>merchant_id</th>\n",
       "      <th>merchant_city</th>\n",
       "      <th>merchant_state</th>\n",
       "      <th>zip</th>\n",
       "      <th>mcc</th>\n",
       "      <th>errors</th>\n",
       "      <th>target</th>\n",
       "      <th>sin_day</th>\n",
       "      <th>event_time</th>\n",
       "      <th>use_Chip Transaction</th>\n",
       "      <th>use_Online Transaction</th>\n",
       "      <th>use_Swipe Transaction</th>\n",
       "      <th>is_expenses</th>\n",
       "      <th>Bad CVV</th>\n",
       "      <th>Bad Expiration</th>\n",
       "      <th>Bad Card Number</th>\n",
       "      <th>Bad PIN</th>\n",
       "      <th>Insufficient Balance</th>\n",
       "      <th>Technical Glitch</th>\n",
       "      <th>mcc_amount_mean</th>\n",
       "      <th>mcc_amount_std</th>\n",
       "      <th>mcc_amount_zscore</th>\n",
       "      <th>mmc_freq</th>\n",
       "      <th>mcc_fraud_rate</th>\n",
       "      <th>nan_zip</th>\n",
       "      <th>zip_high_freq_high_fraud</th>\n",
       "      <th>zip_low_freq_high_fraud</th>\n",
       "      <th>nan_merchant_state</th>\n",
       "      <th>high_fraud_state</th>\n",
       "      <th>low_fraud_states</th>\n",
       "    </tr>\n",
       "  </thead>\n",
       "  <tbody>\n",
       "    <tr>\n",
       "      <th>0</th>\n",
       "      <td>7475722</td>\n",
       "      <td>2010-01-01 06:44:00</td>\n",
       "      <td>1091</td>\n",
       "      <td>3334</td>\n",
       "      <td>6.46</td>\n",
       "      <td>Swipe Transaction</td>\n",
       "      <td>26810</td>\n",
       "      <td>Baltimore</td>\n",
       "      <td>MD</td>\n",
       "      <td>21224.00</td>\n",
       "      <td>5541</td>\n",
       "      <td></td>\n",
       "      <td>0.00</td>\n",
       "      <td>0.02</td>\n",
       "      <td>6.73</td>\n",
       "      <td>0</td>\n",
       "      <td>0</td>\n",
       "      <td>1</td>\n",
       "      <td>0</td>\n",
       "      <td>0</td>\n",
       "      <td>0</td>\n",
       "      <td>0</td>\n",
       "      <td>0</td>\n",
       "      <td>0</td>\n",
       "      <td>0</td>\n",
       "      <td>51.87</td>\n",
       "      <td>36.43</td>\n",
       "      <td>-1.25</td>\n",
       "      <td>2681</td>\n",
       "      <td>0.00</td>\n",
       "      <td>0</td>\n",
       "      <td>0.00</td>\n",
       "      <td>0.00</td>\n",
       "      <td>0</td>\n",
       "      <td>0.00</td>\n",
       "      <td>1.00</td>\n",
       "    </tr>\n",
       "  </tbody>\n",
       "</table>\n",
       "</div>"
      ],
      "text/plain": [
       "        id                date  client_id  card_id               amount  \\\n",
       "0  7475722 2010-01-01 06:44:00       1091     3334                 6.46   \n",
       "\n",
       "            use_chip  merchant_id merchant_city merchant_state  \\\n",
       "0  Swipe Transaction        26810     Baltimore             MD   \n",
       "\n",
       "                   zip   mcc errors               target              sin_day  \\\n",
       "0             21224.00  5541                        0.00                 0.02   \n",
       "\n",
       "            event_time  use_Chip Transaction  use_Online Transaction  \\\n",
       "0                 6.73                     0                       0   \n",
       "\n",
       "   use_Swipe Transaction  is_expenses  Bad CVV  Bad Expiration  \\\n",
       "0                      1            0        0               0   \n",
       "\n",
       "   Bad Card Number  Bad PIN  Insufficient Balance  Technical Glitch  \\\n",
       "0                0        0                     0                 0   \n",
       "\n",
       "       mcc_amount_mean       mcc_amount_std    mcc_amount_zscore  mmc_freq  \\\n",
       "0                51.87                36.43                -1.25      2681   \n",
       "\n",
       "        mcc_fraud_rate  nan_zip  zip_high_freq_high_fraud  \\\n",
       "0                 0.00        0                      0.00   \n",
       "\n",
       "   zip_low_freq_high_fraud  nan_merchant_state     high_fraud_state  \\\n",
       "0                     0.00                   0                 0.00   \n",
       "\n",
       "      low_fraud_states  \n",
       "0                 1.00  "
      ]
     },
     "execution_count": 81,
     "metadata": {},
     "output_type": "execute_result"
    }
   ],
   "source": [
    "train_df.head(1)"
   ]
  },
  {
   "cell_type": "markdown",
   "metadata": {},
   "source": [
    "Ananlysing Client ID column"
   ]
  },
  {
   "cell_type": "code",
   "execution_count": 82,
   "metadata": {},
   "outputs": [],
   "source": [
    "clients_transactions = train_df.groupby(by=\"client_id\")[\"amount\"].count().reset_index()"
   ]
  },
  {
   "cell_type": "code",
   "execution_count": null,
   "metadata": {},
   "outputs": [
    {
     "data": {
      "text/html": [
       "<div>\n",
       "<style scoped>\n",
       "    .dataframe tbody tr th:only-of-type {\n",
       "        vertical-align: middle;\n",
       "    }\n",
       "\n",
       "    .dataframe tbody tr th {\n",
       "        vertical-align: top;\n",
       "    }\n",
       "\n",
       "    .dataframe thead th {\n",
       "        text-align: right;\n",
       "    }\n",
       "</style>\n",
       "<table border=\"1\" class=\"dataframe\">\n",
       "  <thead>\n",
       "    <tr style=\"text-align: right;\">\n",
       "      <th></th>\n",
       "      <th>client_id</th>\n",
       "      <th>amount</th>\n",
       "    </tr>\n",
       "  </thead>\n",
       "  <tbody>\n",
       "    <tr>\n",
       "      <th>count</th>\n",
       "      <td>1208.00</td>\n",
       "      <td>1208.00</td>\n",
       "    </tr>\n",
       "    <tr>\n",
       "      <th>mean</th>\n",
       "      <td>1004.74</td>\n",
       "      <td>26.49</td>\n",
       "    </tr>\n",
       "    <tr>\n",
       "      <th>std</th>\n",
       "      <td>582.63</td>\n",
       "      <td>13.59</td>\n",
       "    </tr>\n",
       "    <tr>\n",
       "      <th>min</th>\n",
       "      <td>0.00</td>\n",
       "      <td>1.00</td>\n",
       "    </tr>\n",
       "    <tr>\n",
       "      <th>25%</th>\n",
       "      <td>493.25</td>\n",
       "      <td>17.00</td>\n",
       "    </tr>\n",
       "    <tr>\n",
       "      <th>50%</th>\n",
       "      <td>1021.00</td>\n",
       "      <td>24.50</td>\n",
       "    </tr>\n",
       "    <tr>\n",
       "      <th>75%</th>\n",
       "      <td>1513.25</td>\n",
       "      <td>34.00</td>\n",
       "    </tr>\n",
       "    <tr>\n",
       "      <th>max</th>\n",
       "      <td>1998.00</td>\n",
       "      <td>98.00</td>\n",
       "    </tr>\n",
       "  </tbody>\n",
       "</table>\n",
       "</div>"
      ],
      "text/plain": [
       "                 client_id               amount\n",
       "count              1208.00              1208.00\n",
       "mean               1004.74                26.49\n",
       "std                 582.63                13.59\n",
       "min                   0.00                 1.00\n",
       "25%                 493.25                17.00\n",
       "50%                1021.00                24.50\n",
       "75%                1513.25                34.00\n",
       "max                1998.00                98.00"
      ]
     },
     "execution_count": 83,
     "metadata": {},
     "output_type": "execute_result"
    }
   ],
   "source": [
    "clients_transactions.describe()"
   ]
  },
  {
   "cell_type": "code",
   "execution_count": 84,
   "metadata": {},
   "outputs": [],
   "source": [
    "client_ids = train_df.groupby('client_id')['target'].agg([\"count\", \"sum\"]).reset_index()\n",
    "client_ids.columns = [\"client_id\",\"total_transactions\", \"num_of_fraud\"]\n",
    "client_ids[\"fraud_rate\"] = ((client_ids[\"num_of_fraud\"] / client_ids[\"total_transactions\"])  * 100).round(3)\n",
    "client_ids.sort_values(\"fraud_rate\" ,ascending=False, inplace=True)"
   ]
  },
  {
   "cell_type": "code",
   "execution_count": 85,
   "metadata": {},
   "outputs": [
    {
     "data": {
      "text/html": [
       "<div>\n",
       "<style scoped>\n",
       "    .dataframe tbody tr th:only-of-type {\n",
       "        vertical-align: middle;\n",
       "    }\n",
       "\n",
       "    .dataframe tbody tr th {\n",
       "        vertical-align: top;\n",
       "    }\n",
       "\n",
       "    .dataframe thead th {\n",
       "        text-align: right;\n",
       "    }\n",
       "</style>\n",
       "<table border=\"1\" class=\"dataframe\">\n",
       "  <thead>\n",
       "    <tr style=\"text-align: right;\">\n",
       "      <th></th>\n",
       "      <th>client_id</th>\n",
       "      <th>total_transactions</th>\n",
       "      <th>num_of_fraud</th>\n",
       "      <th>fraud_rate</th>\n",
       "    </tr>\n",
       "  </thead>\n",
       "  <tbody>\n",
       "    <tr>\n",
       "      <th>996</th>\n",
       "      <td>1649</td>\n",
       "      <td>33</td>\n",
       "      <td>30.00</td>\n",
       "      <td>90.91</td>\n",
       "    </tr>\n",
       "    <tr>\n",
       "      <th>496</th>\n",
       "      <td>826</td>\n",
       "      <td>23</td>\n",
       "      <td>20.00</td>\n",
       "      <td>86.96</td>\n",
       "    </tr>\n",
       "    <tr>\n",
       "      <th>760</th>\n",
       "      <td>1267</td>\n",
       "      <td>29</td>\n",
       "      <td>25.00</td>\n",
       "      <td>86.21</td>\n",
       "    </tr>\n",
       "    <tr>\n",
       "      <th>1107</th>\n",
       "      <td>1833</td>\n",
       "      <td>7</td>\n",
       "      <td>6.00</td>\n",
       "      <td>85.71</td>\n",
       "    </tr>\n",
       "    <tr>\n",
       "      <th>250</th>\n",
       "      <td>403</td>\n",
       "      <td>30</td>\n",
       "      <td>25.00</td>\n",
       "      <td>83.33</td>\n",
       "    </tr>\n",
       "  </tbody>\n",
       "</table>\n",
       "</div>"
      ],
      "text/plain": [
       "      client_id  total_transactions         num_of_fraud           fraud_rate\n",
       "996        1649                  33                30.00                90.91\n",
       "496         826                  23                20.00                86.96\n",
       "760        1267                  29                25.00                86.21\n",
       "1107       1833                   7                 6.00                85.71\n",
       "250         403                  30                25.00                83.33"
      ]
     },
     "execution_count": 85,
     "metadata": {},
     "output_type": "execute_result"
    }
   ],
   "source": [
    "client_ids.head(5)"
   ]
  },
  {
   "cell_type": "code",
   "execution_count": 86,
   "metadata": {},
   "outputs": [
    {
     "data": {
      "text/html": [
       "<div>\n",
       "<style scoped>\n",
       "    .dataframe tbody tr th:only-of-type {\n",
       "        vertical-align: middle;\n",
       "    }\n",
       "\n",
       "    .dataframe tbody tr th {\n",
       "        vertical-align: top;\n",
       "    }\n",
       "\n",
       "    .dataframe thead th {\n",
       "        text-align: right;\n",
       "    }\n",
       "</style>\n",
       "<table border=\"1\" class=\"dataframe\">\n",
       "  <thead>\n",
       "    <tr style=\"text-align: right;\">\n",
       "      <th></th>\n",
       "      <th>client_id</th>\n",
       "      <th>total_transactions</th>\n",
       "      <th>num_of_fraud</th>\n",
       "      <th>fraud_rate</th>\n",
       "    </tr>\n",
       "  </thead>\n",
       "  <tbody>\n",
       "    <tr>\n",
       "      <th>count</th>\n",
       "      <td>1208.00</td>\n",
       "      <td>1208.00</td>\n",
       "      <td>1208.00</td>\n",
       "      <td>1208.00</td>\n",
       "    </tr>\n",
       "    <tr>\n",
       "      <th>mean</th>\n",
       "      <td>1004.74</td>\n",
       "      <td>26.49</td>\n",
       "      <td>6.48</td>\n",
       "      <td>21.63</td>\n",
       "    </tr>\n",
       "    <tr>\n",
       "      <th>std</th>\n",
       "      <td>582.63</td>\n",
       "      <td>13.59</td>\n",
       "      <td>7.18</td>\n",
       "      <td>20.85</td>\n",
       "    </tr>\n",
       "    <tr>\n",
       "      <th>min</th>\n",
       "      <td>0.00</td>\n",
       "      <td>1.00</td>\n",
       "      <td>0.00</td>\n",
       "      <td>0.00</td>\n",
       "    </tr>\n",
       "    <tr>\n",
       "      <th>25%</th>\n",
       "      <td>493.25</td>\n",
       "      <td>17.00</td>\n",
       "      <td>0.00</td>\n",
       "      <td>0.00</td>\n",
       "    </tr>\n",
       "    <tr>\n",
       "      <th>50%</th>\n",
       "      <td>1021.00</td>\n",
       "      <td>24.50</td>\n",
       "      <td>5.00</td>\n",
       "      <td>18.75</td>\n",
       "    </tr>\n",
       "    <tr>\n",
       "      <th>75%</th>\n",
       "      <td>1513.25</td>\n",
       "      <td>34.00</td>\n",
       "      <td>10.00</td>\n",
       "      <td>36.84</td>\n",
       "    </tr>\n",
       "    <tr>\n",
       "      <th>max</th>\n",
       "      <td>1998.00</td>\n",
       "      <td>98.00</td>\n",
       "      <td>50.00</td>\n",
       "      <td>90.91</td>\n",
       "    </tr>\n",
       "  </tbody>\n",
       "</table>\n",
       "</div>"
      ],
      "text/plain": [
       "                 client_id   total_transactions         num_of_fraud  \\\n",
       "count              1208.00              1208.00              1208.00   \n",
       "mean               1004.74                26.49                 6.48   \n",
       "std                 582.63                13.59                 7.18   \n",
       "min                   0.00                 1.00                 0.00   \n",
       "25%                 493.25                17.00                 0.00   \n",
       "50%                1021.00                24.50                 5.00   \n",
       "75%                1513.25                34.00                10.00   \n",
       "max                1998.00                98.00                50.00   \n",
       "\n",
       "                fraud_rate  \n",
       "count              1208.00  \n",
       "mean                 21.63  \n",
       "std                  20.85  \n",
       "min                   0.00  \n",
       "25%                   0.00  \n",
       "50%                  18.75  \n",
       "75%                  36.84  \n",
       "max                  90.91  "
      ]
     },
     "execution_count": 86,
     "metadata": {},
     "output_type": "execute_result"
    }
   ],
   "source": [
    "client_ids.describe()"
   ]
  },
  {
   "cell_type": "code",
   "execution_count": 87,
   "metadata": {},
   "outputs": [],
   "source": [
    "# Making a new feature that for each record shows the fraud rate of it's client.\n",
    "\n",
    "train_df[\"client_fraud_rate\"] = train_df[\"client_id\"].map(client_ids.set_index(\"client_id\")[\"fraud_rate\"])"
   ]
  },
  {
   "cell_type": "code",
   "execution_count": 88,
   "metadata": {},
   "outputs": [
    {
     "data": {
      "text/html": [
       "<div>\n",
       "<style scoped>\n",
       "    .dataframe tbody tr th:only-of-type {\n",
       "        vertical-align: middle;\n",
       "    }\n",
       "\n",
       "    .dataframe tbody tr th {\n",
       "        vertical-align: top;\n",
       "    }\n",
       "\n",
       "    .dataframe thead th {\n",
       "        text-align: right;\n",
       "    }\n",
       "</style>\n",
       "<table border=\"1\" class=\"dataframe\">\n",
       "  <thead>\n",
       "    <tr style=\"text-align: right;\">\n",
       "      <th></th>\n",
       "      <th>id</th>\n",
       "      <th>date</th>\n",
       "      <th>client_id</th>\n",
       "      <th>card_id</th>\n",
       "      <th>amount</th>\n",
       "      <th>use_chip</th>\n",
       "      <th>merchant_id</th>\n",
       "      <th>merchant_city</th>\n",
       "      <th>merchant_state</th>\n",
       "      <th>zip</th>\n",
       "      <th>mcc</th>\n",
       "      <th>errors</th>\n",
       "      <th>target</th>\n",
       "      <th>sin_day</th>\n",
       "      <th>event_time</th>\n",
       "      <th>use_Chip Transaction</th>\n",
       "      <th>use_Online Transaction</th>\n",
       "      <th>use_Swipe Transaction</th>\n",
       "      <th>is_expenses</th>\n",
       "      <th>Bad CVV</th>\n",
       "      <th>Bad Expiration</th>\n",
       "      <th>Bad Card Number</th>\n",
       "      <th>Bad PIN</th>\n",
       "      <th>Insufficient Balance</th>\n",
       "      <th>Technical Glitch</th>\n",
       "      <th>mcc_amount_mean</th>\n",
       "      <th>mcc_amount_std</th>\n",
       "      <th>mcc_amount_zscore</th>\n",
       "      <th>mmc_freq</th>\n",
       "      <th>mcc_fraud_rate</th>\n",
       "      <th>nan_zip</th>\n",
       "      <th>zip_high_freq_high_fraud</th>\n",
       "      <th>zip_low_freq_high_fraud</th>\n",
       "      <th>nan_merchant_state</th>\n",
       "      <th>high_fraud_state</th>\n",
       "      <th>low_fraud_states</th>\n",
       "      <th>client_fraud_rate</th>\n",
       "    </tr>\n",
       "  </thead>\n",
       "  <tbody>\n",
       "    <tr>\n",
       "      <th>0</th>\n",
       "      <td>7475722</td>\n",
       "      <td>2010-01-01 06:44:00</td>\n",
       "      <td>1091</td>\n",
       "      <td>3334</td>\n",
       "      <td>6.46</td>\n",
       "      <td>Swipe Transaction</td>\n",
       "      <td>26810</td>\n",
       "      <td>Baltimore</td>\n",
       "      <td>MD</td>\n",
       "      <td>21224.00</td>\n",
       "      <td>5541</td>\n",
       "      <td></td>\n",
       "      <td>0.00</td>\n",
       "      <td>0.02</td>\n",
       "      <td>6.73</td>\n",
       "      <td>0</td>\n",
       "      <td>0</td>\n",
       "      <td>1</td>\n",
       "      <td>0</td>\n",
       "      <td>0</td>\n",
       "      <td>0</td>\n",
       "      <td>0</td>\n",
       "      <td>0</td>\n",
       "      <td>0</td>\n",
       "      <td>0</td>\n",
       "      <td>51.87</td>\n",
       "      <td>36.43</td>\n",
       "      <td>-1.25</td>\n",
       "      <td>2681</td>\n",
       "      <td>0.00</td>\n",
       "      <td>0</td>\n",
       "      <td>0.00</td>\n",
       "      <td>0.00</td>\n",
       "      <td>0</td>\n",
       "      <td>0.00</td>\n",
       "      <td>1.00</td>\n",
       "      <td>0.00</td>\n",
       "    </tr>\n",
       "    <tr>\n",
       "      <th>1</th>\n",
       "      <td>7476708</td>\n",
       "      <td>2010-01-01 10:37:00</td>\n",
       "      <td>1740</td>\n",
       "      <td>5885</td>\n",
       "      <td>15.59</td>\n",
       "      <td>Swipe Transaction</td>\n",
       "      <td>22938</td>\n",
       "      <td>Mukwonago</td>\n",
       "      <td>WI</td>\n",
       "      <td>53149.00</td>\n",
       "      <td>5812</td>\n",
       "      <td></td>\n",
       "      <td>0.00</td>\n",
       "      <td>0.02</td>\n",
       "      <td>10.62</td>\n",
       "      <td>0</td>\n",
       "      <td>0</td>\n",
       "      <td>1</td>\n",
       "      <td>0</td>\n",
       "      <td>0</td>\n",
       "      <td>0</td>\n",
       "      <td>0</td>\n",
       "      <td>0</td>\n",
       "      <td>0</td>\n",
       "      <td>0</td>\n",
       "      <td>27.47</td>\n",
       "      <td>28.66</td>\n",
       "      <td>-0.41</td>\n",
       "      <td>1958</td>\n",
       "      <td>0.03</td>\n",
       "      <td>0</td>\n",
       "      <td>0.00</td>\n",
       "      <td>0.00</td>\n",
       "      <td>0</td>\n",
       "      <td>0.00</td>\n",
       "      <td>1.00</td>\n",
       "      <td>70.59</td>\n",
       "    </tr>\n",
       "    <tr>\n",
       "      <th>2</th>\n",
       "      <td>7476815</td>\n",
       "      <td>2010-01-01 10:58:00</td>\n",
       "      <td>1966</td>\n",
       "      <td>4087</td>\n",
       "      <td>37.14</td>\n",
       "      <td>Swipe Transaction</td>\n",
       "      <td>32175</td>\n",
       "      <td>Harrison</td>\n",
       "      <td>AR</td>\n",
       "      <td>72601.00</td>\n",
       "      <td>7538</td>\n",
       "      <td></td>\n",
       "      <td>0.00</td>\n",
       "      <td>0.02</td>\n",
       "      <td>10.97</td>\n",
       "      <td>0</td>\n",
       "      <td>0</td>\n",
       "      <td>1</td>\n",
       "      <td>0</td>\n",
       "      <td>0</td>\n",
       "      <td>0</td>\n",
       "      <td>0</td>\n",
       "      <td>0</td>\n",
       "      <td>0</td>\n",
       "      <td>0</td>\n",
       "      <td>55.41</td>\n",
       "      <td>51.73</td>\n",
       "      <td>-0.35</td>\n",
       "      <td>862</td>\n",
       "      <td>0.01</td>\n",
       "      <td>0</td>\n",
       "      <td>0.00</td>\n",
       "      <td>0.00</td>\n",
       "      <td>0</td>\n",
       "      <td>0.00</td>\n",
       "      <td>1.00</td>\n",
       "      <td>6.12</td>\n",
       "    </tr>\n",
       "    <tr>\n",
       "      <th>3</th>\n",
       "      <td>7476921</td>\n",
       "      <td>2010-01-01 11:22:00</td>\n",
       "      <td>39</td>\n",
       "      <td>2413</td>\n",
       "      <td>69.14</td>\n",
       "      <td>Swipe Transaction</td>\n",
       "      <td>60569</td>\n",
       "      <td>Plantsville</td>\n",
       "      <td>CT</td>\n",
       "      <td>6479.00</td>\n",
       "      <td>5300</td>\n",
       "      <td></td>\n",
       "      <td>0.00</td>\n",
       "      <td>0.02</td>\n",
       "      <td>11.37</td>\n",
       "      <td>0</td>\n",
       "      <td>0</td>\n",
       "      <td>1</td>\n",
       "      <td>0</td>\n",
       "      <td>0</td>\n",
       "      <td>0</td>\n",
       "      <td>0</td>\n",
       "      <td>0</td>\n",
       "      <td>0</td>\n",
       "      <td>0</td>\n",
       "      <td>81.72</td>\n",
       "      <td>98.17</td>\n",
       "      <td>-0.13</td>\n",
       "      <td>1896</td>\n",
       "      <td>0.38</td>\n",
       "      <td>0</td>\n",
       "      <td>0.00</td>\n",
       "      <td>0.00</td>\n",
       "      <td>0</td>\n",
       "      <td>0.00</td>\n",
       "      <td>1.00</td>\n",
       "      <td>0.00</td>\n",
       "    </tr>\n",
       "    <tr>\n",
       "      <th>4</th>\n",
       "      <td>7477218</td>\n",
       "      <td>2010-01-01 12:18:00</td>\n",
       "      <td>1135</td>\n",
       "      <td>4977</td>\n",
       "      <td>7.73</td>\n",
       "      <td>Swipe Transaction</td>\n",
       "      <td>75781</td>\n",
       "      <td>Blue Springs</td>\n",
       "      <td>MO</td>\n",
       "      <td>64015.00</td>\n",
       "      <td>5411</td>\n",
       "      <td></td>\n",
       "      <td>0.00</td>\n",
       "      <td>0.02</td>\n",
       "      <td>12.30</td>\n",
       "      <td>0</td>\n",
       "      <td>0</td>\n",
       "      <td>1</td>\n",
       "      <td>0</td>\n",
       "      <td>0</td>\n",
       "      <td>0</td>\n",
       "      <td>0</td>\n",
       "      <td>0</td>\n",
       "      <td>0</td>\n",
       "      <td>0</td>\n",
       "      <td>27.12</td>\n",
       "      <td>37.48</td>\n",
       "      <td>-0.52</td>\n",
       "      <td>2896</td>\n",
       "      <td>0.04</td>\n",
       "      <td>0</td>\n",
       "      <td>0.00</td>\n",
       "      <td>0.00</td>\n",
       "      <td>0</td>\n",
       "      <td>0.00</td>\n",
       "      <td>1.00</td>\n",
       "      <td>0.00</td>\n",
       "    </tr>\n",
       "  </tbody>\n",
       "</table>\n",
       "</div>"
      ],
      "text/plain": [
       "        id                date  client_id  card_id               amount  \\\n",
       "0  7475722 2010-01-01 06:44:00       1091     3334                 6.46   \n",
       "1  7476708 2010-01-01 10:37:00       1740     5885                15.59   \n",
       "2  7476815 2010-01-01 10:58:00       1966     4087                37.14   \n",
       "3  7476921 2010-01-01 11:22:00         39     2413                69.14   \n",
       "4  7477218 2010-01-01 12:18:00       1135     4977                 7.73   \n",
       "\n",
       "            use_chip  merchant_id merchant_city merchant_state  \\\n",
       "0  Swipe Transaction        26810     Baltimore             MD   \n",
       "1  Swipe Transaction        22938     Mukwonago             WI   \n",
       "2  Swipe Transaction        32175      Harrison             AR   \n",
       "3  Swipe Transaction        60569   Plantsville             CT   \n",
       "4  Swipe Transaction        75781  Blue Springs             MO   \n",
       "\n",
       "                   zip   mcc errors               target              sin_day  \\\n",
       "0             21224.00  5541                        0.00                 0.02   \n",
       "1             53149.00  5812                        0.00                 0.02   \n",
       "2             72601.00  7538                        0.00                 0.02   \n",
       "3              6479.00  5300                        0.00                 0.02   \n",
       "4             64015.00  5411                        0.00                 0.02   \n",
       "\n",
       "            event_time  use_Chip Transaction  use_Online Transaction  \\\n",
       "0                 6.73                     0                       0   \n",
       "1                10.62                     0                       0   \n",
       "2                10.97                     0                       0   \n",
       "3                11.37                     0                       0   \n",
       "4                12.30                     0                       0   \n",
       "\n",
       "   use_Swipe Transaction  is_expenses  Bad CVV  Bad Expiration  \\\n",
       "0                      1            0        0               0   \n",
       "1                      1            0        0               0   \n",
       "2                      1            0        0               0   \n",
       "3                      1            0        0               0   \n",
       "4                      1            0        0               0   \n",
       "\n",
       "   Bad Card Number  Bad PIN  Insufficient Balance  Technical Glitch  \\\n",
       "0                0        0                     0                 0   \n",
       "1                0        0                     0                 0   \n",
       "2                0        0                     0                 0   \n",
       "3                0        0                     0                 0   \n",
       "4                0        0                     0                 0   \n",
       "\n",
       "       mcc_amount_mean       mcc_amount_std    mcc_amount_zscore  mmc_freq  \\\n",
       "0                51.87                36.43                -1.25      2681   \n",
       "1                27.47                28.66                -0.41      1958   \n",
       "2                55.41                51.73                -0.35       862   \n",
       "3                81.72                98.17                -0.13      1896   \n",
       "4                27.12                37.48                -0.52      2896   \n",
       "\n",
       "        mcc_fraud_rate  nan_zip  zip_high_freq_high_fraud  \\\n",
       "0                 0.00        0                      0.00   \n",
       "1                 0.03        0                      0.00   \n",
       "2                 0.01        0                      0.00   \n",
       "3                 0.38        0                      0.00   \n",
       "4                 0.04        0                      0.00   \n",
       "\n",
       "   zip_low_freq_high_fraud  nan_merchant_state     high_fraud_state  \\\n",
       "0                     0.00                   0                 0.00   \n",
       "1                     0.00                   0                 0.00   \n",
       "2                     0.00                   0                 0.00   \n",
       "3                     0.00                   0                 0.00   \n",
       "4                     0.00                   0                 0.00   \n",
       "\n",
       "      low_fraud_states    client_fraud_rate  \n",
       "0                 1.00                 0.00  \n",
       "1                 1.00                70.59  \n",
       "2                 1.00                 6.12  \n",
       "3                 1.00                 0.00  \n",
       "4                 1.00                 0.00  "
      ]
     },
     "execution_count": 88,
     "metadata": {},
     "output_type": "execute_result"
    }
   ],
   "source": [
    "train_df.head(5)"
   ]
  },
  {
   "cell_type": "code",
   "execution_count": null,
   "metadata": {},
   "outputs": [],
   "source": []
  }
 ],
 "metadata": {
  "kernelspec": {
   "display_name": "Python 3",
   "language": "python",
   "name": "python3"
  },
  "language_info": {
   "codemirror_mode": {
    "name": "ipython",
    "version": 3
   },
   "file_extension": ".py",
   "mimetype": "text/x-python",
   "name": "python",
   "nbconvert_exporter": "python",
   "pygments_lexer": "ipython3",
   "version": "3.9.0"
  }
 },
 "nbformat": 4,
 "nbformat_minor": 2
}
